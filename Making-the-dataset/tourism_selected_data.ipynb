{
 "cells": [
  {
   "cell_type": "markdown",
   "metadata": {},
   "source": [
    "# Making the dataset "
   ]
  },
  {
   "cell_type": "markdown",
   "metadata": {},
   "source": [
    "Data chose from the Kaggle dataset [Toursim](https://www.kaggle.com/datasets/imtkaggleteam/tourism?select=1-+international-tourist-arrivals-by-region-of-origin.csv)"
   ]
  },
  {
   "cell_type": "markdown",
   "metadata": {},
   "source": [
    "Uploading the chosen csvs."
   ]
  },
  {
   "cell_type": "code",
   "execution_count": 5,
   "metadata": {},
   "outputs": [],
   "source": [
    "import pandas as pd"
   ]
  },
  {
   "cell_type": "code",
   "execution_count": 6,
   "metadata": {},
   "outputs": [],
   "source": [
    "# related industry workers\n",
    "tourism_workers = pd.read_csv(r\"..\\Data\\2- number-of-individuals-employed-in-tourism-related-industries-per-1000-people.csv\")\n",
    "food_bev_workers = pd.read_csv(r\"..\\Data\\11- number-of-people-employed-in-food-and-beverage-serving-activities-per-1000-population.csv\")\n",
    "\n",
    "# economics data\n",
    "gdp_tourism_proportion = pd.read_csv(r\"..\\Data\\7- tourism-gdp-proportion-of-total-gdp.csv\")\n",
    "business_to_tourists_ratio = pd.read_csv(r\"..\\Data\\35- ratio-of-business-trips-to-trips-for-personal-reasons.csv\")\n",
    "\n",
    "\n",
    "# stay related data\n",
    "avg_len_stay = pd.read_csv(r\"..\\Data\\10- average-length-of-stay.csv\")\n",
    "inbound_outbound_ratio = pd.read_csv(r\"..\\Data\\36- ratio-of-inbound-to-outbound-tourists.csv\")\n",
    "inbound_arrivals = pd.read_csv(r\"..\\Data\\23- international-tourist-trips-per-1000-people.csv\")\n",
    "domestic_tourists = pd.read_csv(r\"..\\Data\\38- domestic-trips-by-tourists-per-1000-people.csv\")"
   ]
  },
  {
   "cell_type": "markdown",
   "metadata": {},
   "source": [
    "Looking at each data separately and building a feature that incorporates data from all the years for that specific country."
   ]
  },
  {
   "cell_type": "markdown",
   "metadata": {},
   "source": [
    "## Related Industry workers"
   ]
  },
  {
   "cell_type": "code",
   "execution_count": 7,
   "metadata": {},
   "outputs": [
    {
     "data": {
      "application/vnd.microsoft.datawrangler.viewer.v0+json": {
       "columns": [
        {
         "name": "index",
         "rawType": "int64",
         "type": "integer"
        },
        {
         "name": "Country",
         "rawType": "object",
         "type": "string"
        },
        {
         "name": "Code",
         "rawType": "object",
         "type": "string"
        },
        {
         "name": "Year",
         "rawType": "int64",
         "type": "integer"
        },
        {
         "name": "tourism_employment_per_1000",
         "rawType": "float64",
         "type": "float"
        }
       ],
       "conversionMethod": "pd.DataFrame",
       "ref": "22e722d7-b149-47cc-9a95-6065bd06aedd",
       "rows": [
        [
         "0",
         "Albania",
         "ALB",
         "2004",
         "4.897753"
        ],
        [
         "1",
         "Albania",
         "ALB",
         "2005",
         "5.1440396"
        ],
        [
         "2",
         "Albania",
         "ALB",
         "2006",
         "5.5603814"
        ],
        [
         "3",
         "Albania",
         "ALB",
         "2007",
         "6.182611"
        ],
        [
         "4",
         "Albania",
         "ALB",
         "2008",
         "5.928807"
        ]
       ],
       "shape": {
        "columns": 4,
        "rows": 5
       }
      },
      "text/html": [
       "<div>\n",
       "<style scoped>\n",
       "    .dataframe tbody tr th:only-of-type {\n",
       "        vertical-align: middle;\n",
       "    }\n",
       "\n",
       "    .dataframe tbody tr th {\n",
       "        vertical-align: top;\n",
       "    }\n",
       "\n",
       "    .dataframe thead th {\n",
       "        text-align: right;\n",
       "    }\n",
       "</style>\n",
       "<table border=\"1\" class=\"dataframe\">\n",
       "  <thead>\n",
       "    <tr style=\"text-align: right;\">\n",
       "      <th></th>\n",
       "      <th>Country</th>\n",
       "      <th>Code</th>\n",
       "      <th>Year</th>\n",
       "      <th>tourism_employment_per_1000</th>\n",
       "    </tr>\n",
       "  </thead>\n",
       "  <tbody>\n",
       "    <tr>\n",
       "      <th>0</th>\n",
       "      <td>Albania</td>\n",
       "      <td>ALB</td>\n",
       "      <td>2004</td>\n",
       "      <td>4.897753</td>\n",
       "    </tr>\n",
       "    <tr>\n",
       "      <th>1</th>\n",
       "      <td>Albania</td>\n",
       "      <td>ALB</td>\n",
       "      <td>2005</td>\n",
       "      <td>5.144040</td>\n",
       "    </tr>\n",
       "    <tr>\n",
       "      <th>2</th>\n",
       "      <td>Albania</td>\n",
       "      <td>ALB</td>\n",
       "      <td>2006</td>\n",
       "      <td>5.560381</td>\n",
       "    </tr>\n",
       "    <tr>\n",
       "      <th>3</th>\n",
       "      <td>Albania</td>\n",
       "      <td>ALB</td>\n",
       "      <td>2007</td>\n",
       "      <td>6.182611</td>\n",
       "    </tr>\n",
       "    <tr>\n",
       "      <th>4</th>\n",
       "      <td>Albania</td>\n",
       "      <td>ALB</td>\n",
       "      <td>2008</td>\n",
       "      <td>5.928807</td>\n",
       "    </tr>\n",
       "  </tbody>\n",
       "</table>\n",
       "</div>"
      ],
      "text/plain": [
       "   Country Code  Year  tourism_employment_per_1000\n",
       "0  Albania  ALB  2004                     4.897753\n",
       "1  Albania  ALB  2005                     5.144040\n",
       "2  Albania  ALB  2006                     5.560381\n",
       "3  Albania  ALB  2007                     6.182611\n",
       "4  Albania  ALB  2008                     5.928807"
      ]
     },
     "execution_count": 7,
     "metadata": {},
     "output_type": "execute_result"
    }
   ],
   "source": [
    "tourism_workers.rename(columns={\"Entity\":\"Country\", \"Employment (total) per 1000 people\":\"tourism_employment_per_1000\"}, inplace=True)\n",
    "tourism_workers.head(5)\n"
   ]
  },
  {
   "cell_type": "markdown",
   "metadata": {},
   "source": [
    "Given that we want to have only one value for a certain country, we can apply exponential weighted average on the yearly data we have, thus taking into account historical values while giving more emphasis to current data. "
   ]
  },
  {
   "cell_type": "code",
   "execution_count": 8,
   "metadata": {},
   "outputs": [],
   "source": [
    "tourism_workers = tourism_workers.sort_values(['Country', 'Year'])\n",
    "\n",
    "# Apply exponentially weighted mean within each country\n",
    "tourism_workers['tourism_employment_per_1000_over_time'] = (\n",
    "    tourism_workers.groupby('Country')['tourism_employment_per_1000']\n",
    "    .transform(lambda x: x.ewm(com=0.5, adjust=True).mean())\n",
    ")\n",
    "\n",
    "# Keep only the latest year data for each country\n",
    "tourism_workers_adjusted = tourism_workers.loc[tourism_workers.groupby('Country')['Year'].idxmax()]"
   ]
  },
  {
   "cell_type": "markdown",
   "metadata": {},
   "source": [
    "How the early features is transformed based on the yearly data:"
   ]
  },
  {
   "cell_type": "code",
   "execution_count": 9,
   "metadata": {},
   "outputs": [
    {
     "data": {
      "application/vnd.microsoft.datawrangler.viewer.v0+json": {
       "columns": [
        {
         "name": "index",
         "rawType": "int64",
         "type": "integer"
        },
        {
         "name": "Country",
         "rawType": "object",
         "type": "string"
        },
        {
         "name": "Code",
         "rawType": "object",
         "type": "string"
        },
        {
         "name": "Year",
         "rawType": "int64",
         "type": "integer"
        },
        {
         "name": "tourism_employment_per_1000",
         "rawType": "float64",
         "type": "float"
        },
        {
         "name": "tourism_employment_per_1000_over_time",
         "rawType": "float64",
         "type": "float"
        }
       ],
       "conversionMethod": "pd.DataFrame",
       "ref": "179cdead-651d-406d-b252-e570925f1653",
       "rows": [
        [
         "0",
         "Albania",
         "ALB",
         "2004",
         "4.897753",
         "4.897753"
        ],
        [
         "1",
         "Albania",
         "ALB",
         "2005",
         "5.1440396",
         "5.082467949999999"
        ],
        [
         "2",
         "Albania",
         "ALB",
         "2006",
         "5.5603814",
         "5.413331107692307"
        ],
        [
         "3",
         "Albania",
         "ALB",
         "2007",
         "6.182611",
         "5.932595035"
        ],
        [
         "4",
         "Albania",
         "ALB",
         "2008",
         "5.928807",
         "5.930059242975207"
        ],
        [
         "5",
         "Albania",
         "ALB",
         "2009",
         "6.381048",
         "6.231131407692308"
        ],
        [
         "6",
         "Albania",
         "ALB",
         "2010",
         "7.5513096",
         "7.1116528186642265"
        ],
        [
         "7",
         "Albania",
         "ALB",
         "2011",
         "7.825805",
         "7.587826849329269"
        ],
        [
         "8",
         "Albania",
         "ALB",
         "2012",
         "7.399235",
         "7.462092561812824"
        ],
        [
         "9",
         "Albania",
         "ALB",
         "2013",
         "8.763365",
         "8.329622212295083"
        ],
        [
         "10",
         "Albania",
         "ALB",
         "2014",
         "9.257654",
         "8.948313563295814"
        ],
        [
         "11",
         "Albania",
         "ALB",
         "2015",
         "10.060774",
         "9.689955249961615"
        ],
        [
         "12",
         "Albania",
         "ALB",
         "2016",
         "13.606085",
         "12.30071005418579"
        ],
        [
         "13",
         "Albania",
         "ALB",
         "2017",
         "15.142248",
         "14.19506908079201"
        ],
        [
         "14",
         "Albania",
         "ALB",
         "2018",
         "16.232079",
         "15.553075788239159"
        ],
        [
         "15",
         "Albania",
         "ALB",
         "2019",
         "18.093987",
         "17.247016635430935"
        ],
        [
         "16",
         "Albania",
         "ALB",
         "2020",
         "14.789752",
         "15.608840199125053"
        ]
       ],
       "shape": {
        "columns": 5,
        "rows": 17
       }
      },
      "text/html": [
       "<div>\n",
       "<style scoped>\n",
       "    .dataframe tbody tr th:only-of-type {\n",
       "        vertical-align: middle;\n",
       "    }\n",
       "\n",
       "    .dataframe tbody tr th {\n",
       "        vertical-align: top;\n",
       "    }\n",
       "\n",
       "    .dataframe thead th {\n",
       "        text-align: right;\n",
       "    }\n",
       "</style>\n",
       "<table border=\"1\" class=\"dataframe\">\n",
       "  <thead>\n",
       "    <tr style=\"text-align: right;\">\n",
       "      <th></th>\n",
       "      <th>Country</th>\n",
       "      <th>Code</th>\n",
       "      <th>Year</th>\n",
       "      <th>tourism_employment_per_1000</th>\n",
       "      <th>tourism_employment_per_1000_over_time</th>\n",
       "    </tr>\n",
       "  </thead>\n",
       "  <tbody>\n",
       "    <tr>\n",
       "      <th>0</th>\n",
       "      <td>Albania</td>\n",
       "      <td>ALB</td>\n",
       "      <td>2004</td>\n",
       "      <td>4.897753</td>\n",
       "      <td>4.897753</td>\n",
       "    </tr>\n",
       "    <tr>\n",
       "      <th>1</th>\n",
       "      <td>Albania</td>\n",
       "      <td>ALB</td>\n",
       "      <td>2005</td>\n",
       "      <td>5.144040</td>\n",
       "      <td>5.082468</td>\n",
       "    </tr>\n",
       "    <tr>\n",
       "      <th>2</th>\n",
       "      <td>Albania</td>\n",
       "      <td>ALB</td>\n",
       "      <td>2006</td>\n",
       "      <td>5.560381</td>\n",
       "      <td>5.413331</td>\n",
       "    </tr>\n",
       "    <tr>\n",
       "      <th>3</th>\n",
       "      <td>Albania</td>\n",
       "      <td>ALB</td>\n",
       "      <td>2007</td>\n",
       "      <td>6.182611</td>\n",
       "      <td>5.932595</td>\n",
       "    </tr>\n",
       "    <tr>\n",
       "      <th>4</th>\n",
       "      <td>Albania</td>\n",
       "      <td>ALB</td>\n",
       "      <td>2008</td>\n",
       "      <td>5.928807</td>\n",
       "      <td>5.930059</td>\n",
       "    </tr>\n",
       "    <tr>\n",
       "      <th>5</th>\n",
       "      <td>Albania</td>\n",
       "      <td>ALB</td>\n",
       "      <td>2009</td>\n",
       "      <td>6.381048</td>\n",
       "      <td>6.231131</td>\n",
       "    </tr>\n",
       "    <tr>\n",
       "      <th>6</th>\n",
       "      <td>Albania</td>\n",
       "      <td>ALB</td>\n",
       "      <td>2010</td>\n",
       "      <td>7.551310</td>\n",
       "      <td>7.111653</td>\n",
       "    </tr>\n",
       "    <tr>\n",
       "      <th>7</th>\n",
       "      <td>Albania</td>\n",
       "      <td>ALB</td>\n",
       "      <td>2011</td>\n",
       "      <td>7.825805</td>\n",
       "      <td>7.587827</td>\n",
       "    </tr>\n",
       "    <tr>\n",
       "      <th>8</th>\n",
       "      <td>Albania</td>\n",
       "      <td>ALB</td>\n",
       "      <td>2012</td>\n",
       "      <td>7.399235</td>\n",
       "      <td>7.462093</td>\n",
       "    </tr>\n",
       "    <tr>\n",
       "      <th>9</th>\n",
       "      <td>Albania</td>\n",
       "      <td>ALB</td>\n",
       "      <td>2013</td>\n",
       "      <td>8.763365</td>\n",
       "      <td>8.329622</td>\n",
       "    </tr>\n",
       "    <tr>\n",
       "      <th>10</th>\n",
       "      <td>Albania</td>\n",
       "      <td>ALB</td>\n",
       "      <td>2014</td>\n",
       "      <td>9.257654</td>\n",
       "      <td>8.948314</td>\n",
       "    </tr>\n",
       "    <tr>\n",
       "      <th>11</th>\n",
       "      <td>Albania</td>\n",
       "      <td>ALB</td>\n",
       "      <td>2015</td>\n",
       "      <td>10.060774</td>\n",
       "      <td>9.689955</td>\n",
       "    </tr>\n",
       "    <tr>\n",
       "      <th>12</th>\n",
       "      <td>Albania</td>\n",
       "      <td>ALB</td>\n",
       "      <td>2016</td>\n",
       "      <td>13.606085</td>\n",
       "      <td>12.300710</td>\n",
       "    </tr>\n",
       "    <tr>\n",
       "      <th>13</th>\n",
       "      <td>Albania</td>\n",
       "      <td>ALB</td>\n",
       "      <td>2017</td>\n",
       "      <td>15.142248</td>\n",
       "      <td>14.195069</td>\n",
       "    </tr>\n",
       "    <tr>\n",
       "      <th>14</th>\n",
       "      <td>Albania</td>\n",
       "      <td>ALB</td>\n",
       "      <td>2018</td>\n",
       "      <td>16.232079</td>\n",
       "      <td>15.553076</td>\n",
       "    </tr>\n",
       "    <tr>\n",
       "      <th>15</th>\n",
       "      <td>Albania</td>\n",
       "      <td>ALB</td>\n",
       "      <td>2019</td>\n",
       "      <td>18.093987</td>\n",
       "      <td>17.247017</td>\n",
       "    </tr>\n",
       "    <tr>\n",
       "      <th>16</th>\n",
       "      <td>Albania</td>\n",
       "      <td>ALB</td>\n",
       "      <td>2020</td>\n",
       "      <td>14.789752</td>\n",
       "      <td>15.608840</td>\n",
       "    </tr>\n",
       "  </tbody>\n",
       "</table>\n",
       "</div>"
      ],
      "text/plain": [
       "    Country Code  Year  tourism_employment_per_1000  \\\n",
       "0   Albania  ALB  2004                     4.897753   \n",
       "1   Albania  ALB  2005                     5.144040   \n",
       "2   Albania  ALB  2006                     5.560381   \n",
       "3   Albania  ALB  2007                     6.182611   \n",
       "4   Albania  ALB  2008                     5.928807   \n",
       "5   Albania  ALB  2009                     6.381048   \n",
       "6   Albania  ALB  2010                     7.551310   \n",
       "7   Albania  ALB  2011                     7.825805   \n",
       "8   Albania  ALB  2012                     7.399235   \n",
       "9   Albania  ALB  2013                     8.763365   \n",
       "10  Albania  ALB  2014                     9.257654   \n",
       "11  Albania  ALB  2015                    10.060774   \n",
       "12  Albania  ALB  2016                    13.606085   \n",
       "13  Albania  ALB  2017                    15.142248   \n",
       "14  Albania  ALB  2018                    16.232079   \n",
       "15  Albania  ALB  2019                    18.093987   \n",
       "16  Albania  ALB  2020                    14.789752   \n",
       "\n",
       "    tourism_employment_per_1000_over_time  \n",
       "0                                4.897753  \n",
       "1                                5.082468  \n",
       "2                                5.413331  \n",
       "3                                5.932595  \n",
       "4                                5.930059  \n",
       "5                                6.231131  \n",
       "6                                7.111653  \n",
       "7                                7.587827  \n",
       "8                                7.462093  \n",
       "9                                8.329622  \n",
       "10                               8.948314  \n",
       "11                               9.689955  \n",
       "12                              12.300710  \n",
       "13                              14.195069  \n",
       "14                              15.553076  \n",
       "15                              17.247017  \n",
       "16                              15.608840  "
      ]
     },
     "execution_count": 9,
     "metadata": {},
     "output_type": "execute_result"
    }
   ],
   "source": [
    "tourism_workers.query(\"Country == 'Albania'\")\n"
   ]
  },
  {
   "cell_type": "code",
   "execution_count": 10,
   "metadata": {},
   "outputs": [
    {
     "data": {
      "application/vnd.microsoft.datawrangler.viewer.v0+json": {
       "columns": [
        {
         "name": "index",
         "rawType": "int64",
         "type": "integer"
        },
        {
         "name": "Country",
         "rawType": "object",
         "type": "string"
        },
        {
         "name": "Code",
         "rawType": "object",
         "type": "string"
        },
        {
         "name": "tourism_employment_per_1000_over_time",
         "rawType": "float64",
         "type": "float"
        }
       ],
       "conversionMethod": "pd.DataFrame",
       "ref": "c46fb660-ffe2-4473-a47e-fbee7903fa86",
       "rows": [
        [
         "0",
         "Albania",
         "ALB",
         "15.608840199125053"
        ],
        [
         "1",
         "Algeria",
         "DZA",
         "7.411779196694216"
        ],
        [
         "2",
         "Angola",
         "AGO",
         "2.4392003061296945"
        ],
        [
         "3",
         "Argentina",
         "ARG",
         "28.27054116990143"
        ],
        [
         "4",
         "Australia",
         "AUS",
         "21.464763211894283"
        ],
        [
         "5",
         "Austria",
         "AUT",
         "18.29055616242892"
        ],
        [
         "6",
         "Azerbaijan",
         "AZE",
         "5.147057110284143"
        ],
        [
         "7",
         "Bahrain",
         "BHR",
         "47.522951680327864"
        ],
        [
         "8",
         "Belarus",
         "BLR",
         "25.981162888758895"
        ],
        [
         "9",
         "Belgium",
         "BEL",
         "12.777735875"
        ],
        [
         "10",
         "Belize",
         "BLZ",
         "42.51445709084652"
        ],
        [
         "11",
         "Bosnia and Herzegovina",
         "BIH",
         "11.95901768185"
        ],
        [
         "12",
         "Brazil",
         "BRA",
         "10.34343139782127"
        ],
        [
         "13",
         "Brunei",
         "BRN",
         "6.983811303566712"
        ],
        [
         "14",
         "Cameroon",
         "CMR",
         "1.3391366578512398"
        ],
        [
         "15",
         "Cayman Islands",
         "CYM",
         "177.72935862637362"
        ],
        [
         "16",
         "Chile",
         "CHL",
         "26.14426777226971"
        ],
        [
         "17",
         "Comoros",
         "COM",
         "1.9131730999999996"
        ],
        [
         "18",
         "Congo",
         "COG",
         "1.929745369505495"
        ],
        [
         "19",
         "Costa Rica",
         "CRI",
         "28.65777092063815"
        ],
        [
         "20",
         "Cote d'Ivoire",
         "CIV",
         "4.975301149725275"
        ],
        [
         "21",
         "Croatia",
         "HRV",
         "19.80693873484342"
        ],
        [
         "22",
         "Cyprus",
         "CYP",
         "37.081326766145935"
        ],
        [
         "23",
         "Czechia",
         "CZE",
         "22.692482758540137"
        ],
        [
         "24",
         "Denmark",
         "DNK",
         "33.08627683606272"
        ],
        [
         "25",
         "Djibouti",
         "DJI",
         "1.4933581"
        ],
        [
         "26",
         "Dominican Republic",
         "DOM",
         "15.388764696929728"
        ],
        [
         "27",
         "Ecuador",
         "ECU",
         "6.49160887779196"
        ],
        [
         "28",
         "Egypt",
         "EGY",
         "19.709908739010988"
        ],
        [
         "29",
         "El Salvador",
         "SLV",
         "8.736594901631873"
        ],
        [
         "30",
         "Estonia",
         "EST",
         "19.062382924939644"
        ],
        [
         "31",
         "Eswatini",
         "SWZ",
         "12.545189749999999"
        ],
        [
         "32",
         "Finland",
         "FIN",
         "24.637632197644884"
        ],
        [
         "33",
         "France",
         "FRA",
         "21.36111454548591"
        ],
        [
         "34",
         "French Polynesia",
         "PYF",
         "35.73072718263939"
        ],
        [
         "35",
         "Georgia",
         "GEO",
         "28.325324509011455"
        ],
        [
         "36",
         "Germany",
         "DEU",
         "21.68124757652416"
        ],
        [
         "37",
         "Ghana",
         "GHA",
         "10.497632249073387"
        ],
        [
         "38",
         "Greece",
         "GRC",
         "30.58106590873874"
        ],
        [
         "39",
         "Honduras",
         "HND",
         "24.351742451624325"
        ],
        [
         "40",
         "Hong Kong",
         "HKG",
         "14.997742215822337"
        ],
        [
         "41",
         "Hungary",
         "HUN",
         "33.3538398307256"
        ],
        [
         "42",
         "Iceland",
         "ISL",
         "54.39530878850717"
        ],
        [
         "43",
         "India",
         "IND",
         "21.70433100579268"
        ],
        [
         "44",
         "Indonesia",
         "IDN",
         "8.839096237666608"
        ],
        [
         "45",
         "Israel",
         "ISR",
         "13.008746468735477"
        ],
        [
         "46",
         "Japan",
         "JPN",
         "46.209824504007976"
        ],
        [
         "47",
         "Jordan",
         "JOR",
         "4.332466045592881"
        ],
        [
         "48",
         "Kazakhstan",
         "KAZ",
         "6.165860684193606"
        ],
        [
         "49",
         "Kiribati",
         "KIR",
         "2.835337238461538"
        ]
       ],
       "shape": {
        "columns": 3,
        "rows": 110
       }
      },
      "text/html": [
       "<div>\n",
       "<style scoped>\n",
       "    .dataframe tbody tr th:only-of-type {\n",
       "        vertical-align: middle;\n",
       "    }\n",
       "\n",
       "    .dataframe tbody tr th {\n",
       "        vertical-align: top;\n",
       "    }\n",
       "\n",
       "    .dataframe thead th {\n",
       "        text-align: right;\n",
       "    }\n",
       "</style>\n",
       "<table border=\"1\" class=\"dataframe\">\n",
       "  <thead>\n",
       "    <tr style=\"text-align: right;\">\n",
       "      <th></th>\n",
       "      <th>Country</th>\n",
       "      <th>Code</th>\n",
       "      <th>tourism_employment_per_1000_over_time</th>\n",
       "    </tr>\n",
       "  </thead>\n",
       "  <tbody>\n",
       "    <tr>\n",
       "      <th>0</th>\n",
       "      <td>Albania</td>\n",
       "      <td>ALB</td>\n",
       "      <td>15.608840</td>\n",
       "    </tr>\n",
       "    <tr>\n",
       "      <th>1</th>\n",
       "      <td>Algeria</td>\n",
       "      <td>DZA</td>\n",
       "      <td>7.411779</td>\n",
       "    </tr>\n",
       "    <tr>\n",
       "      <th>2</th>\n",
       "      <td>Angola</td>\n",
       "      <td>AGO</td>\n",
       "      <td>2.439200</td>\n",
       "    </tr>\n",
       "    <tr>\n",
       "      <th>3</th>\n",
       "      <td>Argentina</td>\n",
       "      <td>ARG</td>\n",
       "      <td>28.270541</td>\n",
       "    </tr>\n",
       "    <tr>\n",
       "      <th>4</th>\n",
       "      <td>Australia</td>\n",
       "      <td>AUS</td>\n",
       "      <td>21.464763</td>\n",
       "    </tr>\n",
       "    <tr>\n",
       "      <th>...</th>\n",
       "      <td>...</td>\n",
       "      <td>...</td>\n",
       "      <td>...</td>\n",
       "    </tr>\n",
       "    <tr>\n",
       "      <th>105</th>\n",
       "      <td>United States</td>\n",
       "      <td>USA</td>\n",
       "      <td>13.763542</td>\n",
       "    </tr>\n",
       "    <tr>\n",
       "      <th>106</th>\n",
       "      <td>United States Virgin Islands</td>\n",
       "      <td>VIR</td>\n",
       "      <td>58.525202</td>\n",
       "    </tr>\n",
       "    <tr>\n",
       "      <th>107</th>\n",
       "      <td>Uruguay</td>\n",
       "      <td>URY</td>\n",
       "      <td>35.711428</td>\n",
       "    </tr>\n",
       "    <tr>\n",
       "      <th>108</th>\n",
       "      <td>Uzbekistan</td>\n",
       "      <td>UZB</td>\n",
       "      <td>1.545283</td>\n",
       "    </tr>\n",
       "    <tr>\n",
       "      <th>109</th>\n",
       "      <td>Zambia</td>\n",
       "      <td>ZMB</td>\n",
       "      <td>4.312599</td>\n",
       "    </tr>\n",
       "  </tbody>\n",
       "</table>\n",
       "<p>110 rows × 3 columns</p>\n",
       "</div>"
      ],
      "text/plain": [
       "                          Country Code  tourism_employment_per_1000_over_time\n",
       "0                         Albania  ALB                              15.608840\n",
       "1                         Algeria  DZA                               7.411779\n",
       "2                          Angola  AGO                               2.439200\n",
       "3                       Argentina  ARG                              28.270541\n",
       "4                       Australia  AUS                              21.464763\n",
       "..                            ...  ...                                    ...\n",
       "105                 United States  USA                              13.763542\n",
       "106  United States Virgin Islands  VIR                              58.525202\n",
       "107                       Uruguay  URY                              35.711428\n",
       "108                    Uzbekistan  UZB                               1.545283\n",
       "109                        Zambia  ZMB                               4.312599\n",
       "\n",
       "[110 rows x 3 columns]"
      ]
     },
     "execution_count": 10,
     "metadata": {},
     "output_type": "execute_result"
    }
   ],
   "source": [
    "tourism_workers_adjusted.reset_index(drop=True, inplace=True)\n",
    "tourism_workers_adjusted.drop(columns=[\"tourism_employment_per_1000\", \"Year\"], inplace=True)\n",
    "tourism_workers_adjusted.drop_duplicates(inplace=True)\n",
    "tourism_workers_adjusted\n"
   ]
  },
  {
   "cell_type": "markdown",
   "metadata": {},
   "source": [
    "Let's do the same for food and beverages workers."
   ]
  },
  {
   "cell_type": "code",
   "execution_count": 11,
   "metadata": {},
   "outputs": [
    {
     "data": {
      "application/vnd.microsoft.datawrangler.viewer.v0+json": {
       "columns": [
        {
         "name": "index",
         "rawType": "int64",
         "type": "integer"
        },
        {
         "name": "Country",
         "rawType": "object",
         "type": "string"
        },
        {
         "name": "Code",
         "rawType": "object",
         "type": "string"
        },
        {
         "name": "Year",
         "rawType": "int64",
         "type": "integer"
        },
        {
         "name": "food_employment_per_1000",
         "rawType": "float64",
         "type": "float"
        }
       ],
       "conversionMethod": "pd.DataFrame",
       "ref": "fed877d8-9ab6-4298-bb3b-2166fc200551",
       "rows": [
        [
         "0",
         "Angola",
         "AGO",
         "2007",
         "1.7088726"
        ],
        [
         "1",
         "Angola",
         "AGO",
         "2008",
         "2.238432"
        ],
        [
         "2",
         "Angola",
         "AGO",
         "2009",
         "2.413088"
        ],
        [
         "3",
         "Angola",
         "AGO",
         "2010",
         "2.3937054"
        ],
        [
         "4",
         "Angola",
         "AGO",
         "2011",
         "2.526555"
        ]
       ],
       "shape": {
        "columns": 4,
        "rows": 5
       }
      },
      "text/html": [
       "<div>\n",
       "<style scoped>\n",
       "    .dataframe tbody tr th:only-of-type {\n",
       "        vertical-align: middle;\n",
       "    }\n",
       "\n",
       "    .dataframe tbody tr th {\n",
       "        vertical-align: top;\n",
       "    }\n",
       "\n",
       "    .dataframe thead th {\n",
       "        text-align: right;\n",
       "    }\n",
       "</style>\n",
       "<table border=\"1\" class=\"dataframe\">\n",
       "  <thead>\n",
       "    <tr style=\"text-align: right;\">\n",
       "      <th></th>\n",
       "      <th>Country</th>\n",
       "      <th>Code</th>\n",
       "      <th>Year</th>\n",
       "      <th>food_employment_per_1000</th>\n",
       "    </tr>\n",
       "  </thead>\n",
       "  <tbody>\n",
       "    <tr>\n",
       "      <th>0</th>\n",
       "      <td>Angola</td>\n",
       "      <td>AGO</td>\n",
       "      <td>2007</td>\n",
       "      <td>1.708873</td>\n",
       "    </tr>\n",
       "    <tr>\n",
       "      <th>1</th>\n",
       "      <td>Angola</td>\n",
       "      <td>AGO</td>\n",
       "      <td>2008</td>\n",
       "      <td>2.238432</td>\n",
       "    </tr>\n",
       "    <tr>\n",
       "      <th>2</th>\n",
       "      <td>Angola</td>\n",
       "      <td>AGO</td>\n",
       "      <td>2009</td>\n",
       "      <td>2.413088</td>\n",
       "    </tr>\n",
       "    <tr>\n",
       "      <th>3</th>\n",
       "      <td>Angola</td>\n",
       "      <td>AGO</td>\n",
       "      <td>2010</td>\n",
       "      <td>2.393705</td>\n",
       "    </tr>\n",
       "    <tr>\n",
       "      <th>4</th>\n",
       "      <td>Angola</td>\n",
       "      <td>AGO</td>\n",
       "      <td>2011</td>\n",
       "      <td>2.526555</td>\n",
       "    </tr>\n",
       "  </tbody>\n",
       "</table>\n",
       "</div>"
      ],
      "text/plain": [
       "  Country Code  Year  food_employment_per_1000\n",
       "0  Angola  AGO  2007                  1.708873\n",
       "1  Angola  AGO  2008                  2.238432\n",
       "2  Angola  AGO  2009                  2.413088\n",
       "3  Angola  AGO  2010                  2.393705\n",
       "4  Angola  AGO  2011                  2.526555"
      ]
     },
     "execution_count": 11,
     "metadata": {},
     "output_type": "execute_result"
    }
   ],
   "source": [
    "food_bev_workers.rename(columns={\"Entity\":\"Country\", \"Employment (food and beverage serving activities) per 1000 people\":\"food_employment_per_1000\"}, inplace=True)\n",
    "food_bev_workers.head(5)"
   ]
  },
  {
   "cell_type": "code",
   "execution_count": 12,
   "metadata": {},
   "outputs": [],
   "source": [
    "food_bev_workers = food_bev_workers.sort_values(['Country', 'Year'])\n",
    "\n",
    "# Apply exponentially weighted mean within each country\n",
    "food_bev_workers['food_employment_per_1000_over_time'] = (\n",
    "    food_bev_workers.groupby('Country')['food_employment_per_1000']\n",
    "    .transform(lambda x: x.ewm(com=0.5, adjust=True).mean())\n",
    ")\n",
    "\n",
    "# Keep only the latest year data for each country\n",
    "food_bev_workers_adjusted = food_bev_workers.loc[food_bev_workers.groupby('Country')['Year'].idxmax()]"
   ]
  },
  {
   "cell_type": "code",
   "execution_count": 13,
   "metadata": {},
   "outputs": [
    {
     "data": {
      "application/vnd.microsoft.datawrangler.viewer.v0+json": {
       "columns": [
        {
         "name": "index",
         "rawType": "int64",
         "type": "integer"
        },
        {
         "name": "Country",
         "rawType": "object",
         "type": "string"
        },
        {
         "name": "Code",
         "rawType": "object",
         "type": "string"
        },
        {
         "name": "food_employment_per_1000_over_time",
         "rawType": "float64",
         "type": "float"
        }
       ],
       "conversionMethod": "pd.DataFrame",
       "ref": "8b6fbe32-da6c-4b08-ae11-8c6765b821c9",
       "rows": [
        [
         "0",
         "Angola",
         "AGO",
         "0.7102834141613"
        ],
        [
         "1",
         "Argentina",
         "ARG",
         "11.444929569809979"
        ],
        [
         "2",
         "Australia",
         "AUS",
         "7.825559489957894"
        ],
        [
         "3",
         "Austria",
         "AUT",
         "11.46429977653773"
        ],
        [
         "4",
         "Bahrain",
         "BHR",
         "31.267618890678772"
        ],
        [
         "5",
         "Belgium",
         "BEL",
         "6.429488049999999"
        ],
        [
         "6",
         "Belize",
         "BLZ",
         "13.318975020585546"
        ],
        [
         "7",
         "Bosnia and Herzegovina",
         "BIH",
         "9.726463678362482"
        ],
        [
         "8",
         "Brazil",
         "BRA",
         "5.9973117254870445"
        ],
        [
         "9",
         "Cameroon",
         "CMR",
         "0.7977187895041323"
        ],
        [
         "10",
         "Chile",
         "CHL",
         "8.081689070014841"
        ],
        [
         "11",
         "Comoros",
         "COM",
         "0.781572096153846"
        ],
        [
         "12",
         "Congo",
         "COG",
         "0.8587201068681319"
        ],
        [
         "13",
         "Costa Rica",
         "CRI",
         "19.1646544196728"
        ],
        [
         "14",
         "Cote d'Ivoire",
         "CIV",
         "2.5706224425"
        ],
        [
         "15",
         "Croatia",
         "HRV",
         "9.620320800805194"
        ],
        [
         "16",
         "Cyprus",
         "CYP",
         "19.109085468576144"
        ],
        [
         "17",
         "Czechia",
         "CZE",
         "6.566917092266781"
        ],
        [
         "18",
         "Denmark",
         "DNK",
         "21.224082334567044"
        ],
        [
         "19",
         "Djibouti",
         "DJI",
         "0.5020071"
        ],
        [
         "20",
         "Dominican Republic",
         "DOM",
         "6.164050282644628"
        ],
        [
         "21",
         "Ecuador",
         "ECU",
         "4.372785933323925"
        ],
        [
         "22",
         "Egypt",
         "EGY",
         "4.728084111263737"
        ],
        [
         "23",
         "El Salvador",
         "SLV",
         "4.457795220389484"
        ],
        [
         "24",
         "Estonia",
         "EST",
         "13.21182783791694"
        ],
        [
         "25",
         "Eswatini",
         "SWZ",
         "3.1329322"
        ],
        [
         "26",
         "Finland",
         "FIN",
         "12.396445000626601"
        ],
        [
         "27",
         "France",
         "FRA",
         "12.266234232395346"
        ],
        [
         "28",
         "French Polynesia",
         "PYF",
         "7.620747207428236"
        ],
        [
         "29",
         "Georgia",
         "GEO",
         "6.105914501913133"
        ],
        [
         "30",
         "Germany",
         "DEU",
         "14.89163881376449"
        ],
        [
         "31",
         "Greece",
         "GRC",
         "16.525621763030713"
        ],
        [
         "32",
         "Honduras",
         "HND",
         "19.247421940891684"
        ],
        [
         "33",
         "Hong Kong",
         "HKG",
         "2.3884428024565616"
        ],
        [
         "34",
         "Hungary",
         "HUN",
         "10.801319909059739"
        ],
        [
         "35",
         "Iceland",
         "ISL",
         "23.89171053478916"
        ],
        [
         "36",
         "India",
         "IND",
         "5.400265599085366"
        ],
        [
         "37",
         "Indonesia",
         "IDN",
         "0.6321044699999999"
        ],
        [
         "38",
         "Israel",
         "ISR",
         "1.5091099235413767"
        ],
        [
         "39",
         "Japan",
         "JPN",
         "24.074736146329972"
        ],
        [
         "40",
         "Jordan",
         "JOR",
         "1.5390439298171643"
        ],
        [
         "41",
         "Kazakhstan",
         "KAZ",
         "4.352939815384614"
        ],
        [
         "42",
         "Kyrgyzstan",
         "KGZ",
         "0.182560489107902"
        ],
        [
         "43",
         "Latvia",
         "LVA",
         "11.752766204373795"
        ],
        [
         "44",
         "Lebanon",
         "LBN",
         "49.553413"
        ],
        [
         "45",
         "Lithuania",
         "LTU",
         "5.363670937568302"
        ],
        [
         "46",
         "Macao",
         "MAC",
         "49.442950705090546"
        ],
        [
         "47",
         "Malaysia",
         "MYS",
         "36.8107955342541"
        ],
        [
         "48",
         "Martinique",
         "MTQ",
         "8.943863958642416"
        ],
        [
         "49",
         "Mauritius",
         "MUS",
         "2.7010057915593153"
        ]
       ],
       "shape": {
        "columns": 3,
        "rows": 85
       }
      },
      "text/html": [
       "<div>\n",
       "<style scoped>\n",
       "    .dataframe tbody tr th:only-of-type {\n",
       "        vertical-align: middle;\n",
       "    }\n",
       "\n",
       "    .dataframe tbody tr th {\n",
       "        vertical-align: top;\n",
       "    }\n",
       "\n",
       "    .dataframe thead th {\n",
       "        text-align: right;\n",
       "    }\n",
       "</style>\n",
       "<table border=\"1\" class=\"dataframe\">\n",
       "  <thead>\n",
       "    <tr style=\"text-align: right;\">\n",
       "      <th></th>\n",
       "      <th>Country</th>\n",
       "      <th>Code</th>\n",
       "      <th>food_employment_per_1000_over_time</th>\n",
       "    </tr>\n",
       "  </thead>\n",
       "  <tbody>\n",
       "    <tr>\n",
       "      <th>0</th>\n",
       "      <td>Angola</td>\n",
       "      <td>AGO</td>\n",
       "      <td>0.710283</td>\n",
       "    </tr>\n",
       "    <tr>\n",
       "      <th>1</th>\n",
       "      <td>Argentina</td>\n",
       "      <td>ARG</td>\n",
       "      <td>11.444930</td>\n",
       "    </tr>\n",
       "    <tr>\n",
       "      <th>2</th>\n",
       "      <td>Australia</td>\n",
       "      <td>AUS</td>\n",
       "      <td>7.825559</td>\n",
       "    </tr>\n",
       "    <tr>\n",
       "      <th>3</th>\n",
       "      <td>Austria</td>\n",
       "      <td>AUT</td>\n",
       "      <td>11.464300</td>\n",
       "    </tr>\n",
       "    <tr>\n",
       "      <th>4</th>\n",
       "      <td>Bahrain</td>\n",
       "      <td>BHR</td>\n",
       "      <td>31.267619</td>\n",
       "    </tr>\n",
       "    <tr>\n",
       "      <th>...</th>\n",
       "      <td>...</td>\n",
       "      <td>...</td>\n",
       "      <td>...</td>\n",
       "    </tr>\n",
       "    <tr>\n",
       "      <th>80</th>\n",
       "      <td>United Arab Emirates</td>\n",
       "      <td>ARE</td>\n",
       "      <td>22.769673</td>\n",
       "    </tr>\n",
       "    <tr>\n",
       "      <th>81</th>\n",
       "      <td>United Kingdom</td>\n",
       "      <td>GBR</td>\n",
       "      <td>21.678139</td>\n",
       "    </tr>\n",
       "    <tr>\n",
       "      <th>82</th>\n",
       "      <td>United States</td>\n",
       "      <td>USA</td>\n",
       "      <td>3.456045</td>\n",
       "    </tr>\n",
       "    <tr>\n",
       "      <th>83</th>\n",
       "      <td>United States Virgin Islands</td>\n",
       "      <td>VIR</td>\n",
       "      <td>25.238442</td>\n",
       "    </tr>\n",
       "    <tr>\n",
       "      <th>84</th>\n",
       "      <td>Uruguay</td>\n",
       "      <td>URY</td>\n",
       "      <td>14.620641</td>\n",
       "    </tr>\n",
       "  </tbody>\n",
       "</table>\n",
       "<p>85 rows × 3 columns</p>\n",
       "</div>"
      ],
      "text/plain": [
       "                         Country Code  food_employment_per_1000_over_time\n",
       "0                         Angola  AGO                            0.710283\n",
       "1                      Argentina  ARG                           11.444930\n",
       "2                      Australia  AUS                            7.825559\n",
       "3                        Austria  AUT                           11.464300\n",
       "4                        Bahrain  BHR                           31.267619\n",
       "..                           ...  ...                                 ...\n",
       "80          United Arab Emirates  ARE                           22.769673\n",
       "81                United Kingdom  GBR                           21.678139\n",
       "82                 United States  USA                            3.456045\n",
       "83  United States Virgin Islands  VIR                           25.238442\n",
       "84                       Uruguay  URY                           14.620641\n",
       "\n",
       "[85 rows x 3 columns]"
      ]
     },
     "execution_count": 13,
     "metadata": {},
     "output_type": "execute_result"
    }
   ],
   "source": [
    "food_bev_workers_adjusted.reset_index(drop=True, inplace=True)\n",
    "food_bev_workers_adjusted.drop(columns=[\"food_employment_per_1000\", \"Year\"], inplace=True)\n",
    "food_bev_workers_adjusted.drop_duplicates(inplace=True)\n",
    "food_bev_workers_adjusted"
   ]
  },
  {
   "cell_type": "markdown",
   "metadata": {},
   "source": [
    "Making a function to simplify the process. "
   ]
  },
  {
   "cell_type": "code",
   "execution_count": 14,
   "metadata": {},
   "outputs": [],
   "source": [
    "def apply_ewm_and_filter(df, column_name, new_column_name='EWMA_Result', com_value=0.5):\n",
    "    \"\"\"\n",
    "    Apply exponentially weighted mean (EWM) on the specified column for each country,\n",
    "    keep only the latest year data for each country, and clean the dataframe.\n",
    "\n",
    "    Parameters:\n",
    "    - df (DataFrame): The input DataFrame.\n",
    "    - column_name (str): The column name on which EWM is applied.\n",
    "    - new_column_name (str): The name of the new column where EWM results are stored (default is 'EWMA_Result').\n",
    "    - com_value (float): The center of mass (com) value for the EWM (default is 0.5).\n",
    "\n",
    "    Returns:\n",
    "    - DataFrame: A cleaned DataFrame with only the latest data and the calculated EWM.\n",
    "    \"\"\"\n",
    "    \n",
    "    # Step 1: Sort by 'Country' and 'Year'\n",
    "    df = df.sort_values(['Country', 'Year'])\n",
    "    \n",
    "    # Step 2: Apply exponentially weighted mean within each country\n",
    "    df[new_column_name] = (\n",
    "        df.groupby('Country')[column_name]\n",
    "        .transform(lambda x: x.ewm(com=com_value, adjust=True).mean())\n",
    "    )\n",
    "    \n",
    "    # Step 3: Keep only the latest year data for each country\n",
    "    df_latest = df.loc[df.groupby('Country')['Year'].idxmax()]\n",
    "    \n",
    "    # Step 4: Reset index and drop unnecessary columns\n",
    "    df_latest.reset_index(drop=True, inplace=True)\n",
    "    df_latest.drop(columns=[column_name, 'Year'], inplace=True)\n",
    "    \n",
    "    # Step 5: Drop duplicates if any\n",
    "    df_latest.drop_duplicates(inplace=True)\n",
    "    \n",
    "    return df_latest\n",
    "\n"
   ]
  },
  {
   "cell_type": "markdown",
   "metadata": {},
   "source": [
    "## Economics Data"
   ]
  },
  {
   "cell_type": "code",
   "execution_count": 15,
   "metadata": {},
   "outputs": [
    {
     "data": {
      "application/vnd.microsoft.datawrangler.viewer.v0+json": {
       "columns": [
        {
         "name": "index",
         "rawType": "int64",
         "type": "integer"
        },
        {
         "name": "Country",
         "rawType": "object",
         "type": "string"
        },
        {
         "name": "Code",
         "rawType": "object",
         "type": "string"
        },
        {
         "name": "Year",
         "rawType": "int64",
         "type": "integer"
        },
        {
         "name": "tourism_gdp_percentage",
         "rawType": "float64",
         "type": "float"
        }
       ],
       "conversionMethod": "pd.DataFrame",
       "ref": "0909756a-0b5b-4126-8eff-c090640bcc9a",
       "rows": [
        [
         "0",
         "Algeria",
         "DZA",
         "2008",
         "0.8"
        ],
        [
         "1",
         "Algeria",
         "DZA",
         "2009",
         "1.1"
        ],
        [
         "2",
         "Algeria",
         "DZA",
         "2010",
         "1.0"
        ],
        [
         "3",
         "Algeria",
         "DZA",
         "2011",
         "0.9"
        ],
        [
         "4",
         "Algeria",
         "DZA",
         "2012",
         "0.9"
        ]
       ],
       "shape": {
        "columns": 4,
        "rows": 5
       }
      },
      "text/html": [
       "<div>\n",
       "<style scoped>\n",
       "    .dataframe tbody tr th:only-of-type {\n",
       "        vertical-align: middle;\n",
       "    }\n",
       "\n",
       "    .dataframe tbody tr th {\n",
       "        vertical-align: top;\n",
       "    }\n",
       "\n",
       "    .dataframe thead th {\n",
       "        text-align: right;\n",
       "    }\n",
       "</style>\n",
       "<table border=\"1\" class=\"dataframe\">\n",
       "  <thead>\n",
       "    <tr style=\"text-align: right;\">\n",
       "      <th></th>\n",
       "      <th>Country</th>\n",
       "      <th>Code</th>\n",
       "      <th>Year</th>\n",
       "      <th>tourism_gdp_percentage</th>\n",
       "    </tr>\n",
       "  </thead>\n",
       "  <tbody>\n",
       "    <tr>\n",
       "      <th>0</th>\n",
       "      <td>Algeria</td>\n",
       "      <td>DZA</td>\n",
       "      <td>2008</td>\n",
       "      <td>0.8</td>\n",
       "    </tr>\n",
       "    <tr>\n",
       "      <th>1</th>\n",
       "      <td>Algeria</td>\n",
       "      <td>DZA</td>\n",
       "      <td>2009</td>\n",
       "      <td>1.1</td>\n",
       "    </tr>\n",
       "    <tr>\n",
       "      <th>2</th>\n",
       "      <td>Algeria</td>\n",
       "      <td>DZA</td>\n",
       "      <td>2010</td>\n",
       "      <td>1.0</td>\n",
       "    </tr>\n",
       "    <tr>\n",
       "      <th>3</th>\n",
       "      <td>Algeria</td>\n",
       "      <td>DZA</td>\n",
       "      <td>2011</td>\n",
       "      <td>0.9</td>\n",
       "    </tr>\n",
       "    <tr>\n",
       "      <th>4</th>\n",
       "      <td>Algeria</td>\n",
       "      <td>DZA</td>\n",
       "      <td>2012</td>\n",
       "      <td>0.9</td>\n",
       "    </tr>\n",
       "  </tbody>\n",
       "</table>\n",
       "</div>"
      ],
      "text/plain": [
       "   Country Code  Year  tourism_gdp_percentage\n",
       "0  Algeria  DZA  2008                     0.8\n",
       "1  Algeria  DZA  2009                     1.1\n",
       "2  Algeria  DZA  2010                     1.0\n",
       "3  Algeria  DZA  2011                     0.9\n",
       "4  Algeria  DZA  2012                     0.9"
      ]
     },
     "execution_count": 15,
     "metadata": {},
     "output_type": "execute_result"
    }
   ],
   "source": [
    "gdp_tourism_proportion.rename(columns={\"Entity\":\"Country\", \"Tourism GDP as a proportion of Total\":\"tourism_gdp_percentage\"}, inplace=True)\n",
    "gdp_tourism_proportion.head()"
   ]
  },
  {
   "cell_type": "code",
   "execution_count": 16,
   "metadata": {},
   "outputs": [
    {
     "data": {
      "application/vnd.microsoft.datawrangler.viewer.v0+json": {
       "columns": [
        {
         "name": "index",
         "rawType": "int64",
         "type": "integer"
        },
        {
         "name": "Country",
         "rawType": "object",
         "type": "string"
        },
        {
         "name": "Code",
         "rawType": "object",
         "type": "string"
        },
        {
         "name": "Year",
         "rawType": "int64",
         "type": "integer"
        },
        {
         "name": "business_to_personal_ratio",
         "rawType": "float64",
         "type": "float"
        }
       ],
       "conversionMethod": "pd.DataFrame",
       "ref": "e732c1e0-6f82-4c55-902b-cd6bbdd965e9",
       "rows": [
        [
         "0",
         "Albania",
         "ALB",
         "1998",
         "0.5943396"
        ],
        [
         "1",
         "Albania",
         "ALB",
         "1999",
         "0.98255813"
        ],
        [
         "2",
         "Albania",
         "ALB",
         "2000",
         "0.35321102"
        ],
        [
         "3",
         "Albania",
         "ALB",
         "2001",
         "0.39917696"
        ],
        [
         "4",
         "Albania",
         "ALB",
         "2002",
         "0.27027026"
        ]
       ],
       "shape": {
        "columns": 4,
        "rows": 5
       }
      },
      "text/html": [
       "<div>\n",
       "<style scoped>\n",
       "    .dataframe tbody tr th:only-of-type {\n",
       "        vertical-align: middle;\n",
       "    }\n",
       "\n",
       "    .dataframe tbody tr th {\n",
       "        vertical-align: top;\n",
       "    }\n",
       "\n",
       "    .dataframe thead th {\n",
       "        text-align: right;\n",
       "    }\n",
       "</style>\n",
       "<table border=\"1\" class=\"dataframe\">\n",
       "  <thead>\n",
       "    <tr style=\"text-align: right;\">\n",
       "      <th></th>\n",
       "      <th>Country</th>\n",
       "      <th>Code</th>\n",
       "      <th>Year</th>\n",
       "      <th>business_to_personal_ratio</th>\n",
       "    </tr>\n",
       "  </thead>\n",
       "  <tbody>\n",
       "    <tr>\n",
       "      <th>0</th>\n",
       "      <td>Albania</td>\n",
       "      <td>ALB</td>\n",
       "      <td>1998</td>\n",
       "      <td>0.594340</td>\n",
       "    </tr>\n",
       "    <tr>\n",
       "      <th>1</th>\n",
       "      <td>Albania</td>\n",
       "      <td>ALB</td>\n",
       "      <td>1999</td>\n",
       "      <td>0.982558</td>\n",
       "    </tr>\n",
       "    <tr>\n",
       "      <th>2</th>\n",
       "      <td>Albania</td>\n",
       "      <td>ALB</td>\n",
       "      <td>2000</td>\n",
       "      <td>0.353211</td>\n",
       "    </tr>\n",
       "    <tr>\n",
       "      <th>3</th>\n",
       "      <td>Albania</td>\n",
       "      <td>ALB</td>\n",
       "      <td>2001</td>\n",
       "      <td>0.399177</td>\n",
       "    </tr>\n",
       "    <tr>\n",
       "      <th>4</th>\n",
       "      <td>Albania</td>\n",
       "      <td>ALB</td>\n",
       "      <td>2002</td>\n",
       "      <td>0.270270</td>\n",
       "    </tr>\n",
       "  </tbody>\n",
       "</table>\n",
       "</div>"
      ],
      "text/plain": [
       "   Country Code  Year  business_to_personal_ratio\n",
       "0  Albania  ALB  1998                    0.594340\n",
       "1  Albania  ALB  1999                    0.982558\n",
       "2  Albania  ALB  2000                    0.353211\n",
       "3  Albania  ALB  2001                    0.399177\n",
       "4  Albania  ALB  2002                    0.270270"
      ]
     },
     "execution_count": 16,
     "metadata": {},
     "output_type": "execute_result"
    }
   ],
   "source": [
    "business_to_tourists_ratio.rename(columns={\"Entity\":\"Country\", \"Business/Personal Ratio of Purpose of Travel\":\"business_to_personal_ratio\"}, inplace=True)\n",
    "business_to_tourists_ratio.head()"
   ]
  },
  {
   "cell_type": "markdown",
   "metadata": {},
   "source": [
    "We will apply the same approach for these feature as well, but we will use a higher decay, meaning a lower com value. This will put more emphasis on more recent data."
   ]
  },
  {
   "cell_type": "code",
   "execution_count": 17,
   "metadata": {},
   "outputs": [],
   "source": [
    "gdp_tourism_proportion_adjusted = apply_ewm_and_filter(gdp_tourism_proportion, \"tourism_gdp_percentage\", \"tourism_gdp_percentage_over_time\", 0.2)\n",
    "business_to_tourists_ratio_adjusted = apply_ewm_and_filter(business_to_tourists_ratio, \"business_to_personal_ratio\", \"business_to_personal_ratio_over_time\", 0.2)"
   ]
  },
  {
   "cell_type": "code",
   "execution_count": 18,
   "metadata": {},
   "outputs": [
    {
     "data": {
      "application/vnd.microsoft.datawrangler.viewer.v0+json": {
       "columns": [
        {
         "name": "index",
         "rawType": "int64",
         "type": "integer"
        },
        {
         "name": "Country",
         "rawType": "object",
         "type": "string"
        },
        {
         "name": "Code",
         "rawType": "object",
         "type": "unknown"
        },
        {
         "name": "tourism_gdp_percentage_over_time",
         "rawType": "float64",
         "type": "float"
        }
       ],
       "conversionMethod": "pd.DataFrame",
       "ref": "c9812ba9-aaff-46c9-967b-5910ee059b49",
       "rows": [
        [
         "0",
         "Algeria",
         "DZA",
         "1.1299207098835016"
        ],
        [
         "1",
         "Argentina",
         "ARG",
         "1.8907879822393825"
        ],
        [
         "2",
         "Aruba",
         "ABW",
         "21.208038585209"
        ],
        [
         "3",
         "Australia",
         "AUS",
         "1.5726741278873289"
        ],
        [
         "4",
         "Australia and New Zealand",
         null,
         "1.8156527178389357"
        ],
        [
         "5",
         "Austria",
         "AUT",
         "3.1694417680945537"
        ],
        [
         "6",
         "Azerbaijan",
         "AZE",
         "3.7"
        ],
        [
         "7",
         "Bahamas",
         "BHS",
         "15.2"
        ],
        [
         "8",
         "Bahrain",
         "BHR",
         "2.2458796528957525"
        ],
        [
         "9",
         "Belarus",
         "BLR",
         "1.5902661980694983"
        ],
        [
         "10",
         "Belgium",
         "BEL",
         "1.9016732285714288"
        ],
        [
         "11",
         "Bermuda",
         "BMU",
         "2.225518240022005"
        ],
        [
         "12",
         "Bhutan",
         "BTN",
         "9.521375"
        ],
        [
         "13",
         "Botswana",
         "BWA",
         "4.7285714285714295"
        ],
        [
         "14",
         "Brunei",
         "BRN",
         "0.8180783038919749"
        ],
        [
         "15",
         "Canada",
         "CAN",
         "1.0302707238991562"
        ],
        [
         "16",
         "Central Asia and Southern Asia",
         null,
         "0.5074644515669016"
        ],
        [
         "17",
         "Chile",
         "CHL",
         "3.3179656597005858"
        ],
        [
         "18",
         "Colombia",
         "COL",
         "1.5892801266864247"
        ],
        [
         "19",
         "Costa Rica",
         "CRI",
         "4.795690118042527"
        ],
        [
         "20",
         "Cote d'Ivoire",
         "CIV",
         "2.4366762439228413"
        ],
        [
         "21",
         "Croatia",
         "HRV",
         "11.728353581395348"
        ],
        [
         "22",
         "Czechia",
         "CZE",
         "1.7133623695800486"
        ],
        [
         "23",
         "Denmark",
         "DNK",
         "1.7034763474596548"
        ],
        [
         "24",
         "Eastern Asia and South-eastern Asia",
         null,
         "2.568209685736921"
        ],
        [
         "25",
         "Ecuador",
         "ECU",
         "1.2240324522139598"
        ],
        [
         "26",
         "Egypt",
         "EGY",
         "4.2645659163987135"
        ],
        [
         "27",
         "El Salvador",
         "SLV",
         "3.505555676655948"
        ],
        [
         "28",
         "Estonia",
         "EST",
         "5.409725259211038"
        ],
        [
         "29",
         "Eswatini",
         "SWZ",
         "0.7101467591430353"
        ],
        [
         "30",
         "Europe",
         null,
         "2.8658500329564323"
        ],
        [
         "31",
         "Fiji",
         "FJI",
         "12.621602764430738"
        ],
        [
         "32",
         "Finland",
         "FIN",
         "1.872201506477481"
        ],
        [
         "33",
         "France",
         "FRA",
         "3.3087858000000003"
        ],
        [
         "34",
         "French Polynesia",
         "PYF",
         "7.3"
        ],
        [
         "35",
         "Germany",
         "DEU",
         "3.985673590751259"
        ],
        [
         "36",
         "Greece",
         "GRC",
         "5.842859889463434"
        ],
        [
         "37",
         "Guam",
         "GUM",
         "12.554855305466237"
        ],
        [
         "38",
         "Guinea",
         "GIN",
         "0.9398792070362761"
        ],
        [
         "39",
         "Guyana",
         "GUY",
         "0.6838480361512493"
        ],
        [
         "40",
         "Honduras",
         "HND",
         "6.066724577832152"
        ],
        [
         "41",
         "Hong Kong",
         "HKG",
         "0.9224793152774107"
        ],
        [
         "42",
         "Hungary",
         "HUN",
         "5.348974095903762"
        ],
        [
         "43",
         "Iceland",
         "ISL",
         "4.58503334658198"
        ],
        [
         "44",
         "India",
         "IND",
         "0.9082011218032742"
        ],
        [
         "45",
         "Indonesia",
         "IDN",
         "2.692887172171155"
        ],
        [
         "46",
         "Ireland",
         "IRL",
         "4.764683"
        ],
        [
         "47",
         "Israel",
         "ISR",
         "1.0650159254836158"
        ],
        [
         "48",
         "Italy",
         "ITA",
         "5.673840416988417"
        ],
        [
         "49",
         "Jamaica",
         "JAM",
         "9.691150582263036"
        ]
       ],
       "shape": {
        "columns": 3,
        "rows": 119
       }
      },
      "text/html": [
       "<div>\n",
       "<style scoped>\n",
       "    .dataframe tbody tr th:only-of-type {\n",
       "        vertical-align: middle;\n",
       "    }\n",
       "\n",
       "    .dataframe tbody tr th {\n",
       "        vertical-align: top;\n",
       "    }\n",
       "\n",
       "    .dataframe thead th {\n",
       "        text-align: right;\n",
       "    }\n",
       "</style>\n",
       "<table border=\"1\" class=\"dataframe\">\n",
       "  <thead>\n",
       "    <tr style=\"text-align: right;\">\n",
       "      <th></th>\n",
       "      <th>Country</th>\n",
       "      <th>Code</th>\n",
       "      <th>tourism_gdp_percentage_over_time</th>\n",
       "    </tr>\n",
       "  </thead>\n",
       "  <tbody>\n",
       "    <tr>\n",
       "      <th>0</th>\n",
       "      <td>Algeria</td>\n",
       "      <td>DZA</td>\n",
       "      <td>1.129921</td>\n",
       "    </tr>\n",
       "    <tr>\n",
       "      <th>1</th>\n",
       "      <td>Argentina</td>\n",
       "      <td>ARG</td>\n",
       "      <td>1.890788</td>\n",
       "    </tr>\n",
       "    <tr>\n",
       "      <th>2</th>\n",
       "      <td>Aruba</td>\n",
       "      <td>ABW</td>\n",
       "      <td>21.208039</td>\n",
       "    </tr>\n",
       "    <tr>\n",
       "      <th>3</th>\n",
       "      <td>Australia</td>\n",
       "      <td>AUS</td>\n",
       "      <td>1.572674</td>\n",
       "    </tr>\n",
       "    <tr>\n",
       "      <th>4</th>\n",
       "      <td>Australia and New Zealand</td>\n",
       "      <td>NaN</td>\n",
       "      <td>1.815653</td>\n",
       "    </tr>\n",
       "    <tr>\n",
       "      <th>...</th>\n",
       "      <td>...</td>\n",
       "      <td>...</td>\n",
       "      <td>...</td>\n",
       "    </tr>\n",
       "    <tr>\n",
       "      <th>114</th>\n",
       "      <td>United States</td>\n",
       "      <td>USA</td>\n",
       "      <td>2.875489</td>\n",
       "    </tr>\n",
       "    <tr>\n",
       "      <th>115</th>\n",
       "      <td>Uruguay</td>\n",
       "      <td>URY</td>\n",
       "      <td>7.188250</td>\n",
       "    </tr>\n",
       "    <tr>\n",
       "      <th>116</th>\n",
       "      <td>Vietnam</td>\n",
       "      <td>VNM</td>\n",
       "      <td>9.046535</td>\n",
       "    </tr>\n",
       "    <tr>\n",
       "      <th>117</th>\n",
       "      <td>Western Asia and Northern Africa</td>\n",
       "      <td>NaN</td>\n",
       "      <td>5.117713</td>\n",
       "    </tr>\n",
       "    <tr>\n",
       "      <th>118</th>\n",
       "      <td>World</td>\n",
       "      <td>OWID_WRL</td>\n",
       "      <td>2.569291</td>\n",
       "    </tr>\n",
       "  </tbody>\n",
       "</table>\n",
       "<p>119 rows × 3 columns</p>\n",
       "</div>"
      ],
      "text/plain": [
       "                              Country      Code  \\\n",
       "0                             Algeria       DZA   \n",
       "1                           Argentina       ARG   \n",
       "2                               Aruba       ABW   \n",
       "3                           Australia       AUS   \n",
       "4           Australia and New Zealand       NaN   \n",
       "..                                ...       ...   \n",
       "114                     United States       USA   \n",
       "115                           Uruguay       URY   \n",
       "116                           Vietnam       VNM   \n",
       "117  Western Asia and Northern Africa       NaN   \n",
       "118                             World  OWID_WRL   \n",
       "\n",
       "     tourism_gdp_percentage_over_time  \n",
       "0                            1.129921  \n",
       "1                            1.890788  \n",
       "2                           21.208039  \n",
       "3                            1.572674  \n",
       "4                            1.815653  \n",
       "..                                ...  \n",
       "114                          2.875489  \n",
       "115                          7.188250  \n",
       "116                          9.046535  \n",
       "117                          5.117713  \n",
       "118                          2.569291  \n",
       "\n",
       "[119 rows x 3 columns]"
      ]
     },
     "execution_count": 18,
     "metadata": {},
     "output_type": "execute_result"
    }
   ],
   "source": [
    "gdp_tourism_proportion_adjusted"
   ]
  },
  {
   "cell_type": "code",
   "execution_count": 19,
   "metadata": {},
   "outputs": [
    {
     "data": {
      "application/vnd.microsoft.datawrangler.viewer.v0+json": {
       "columns": [
        {
         "name": "index",
         "rawType": "int64",
         "type": "integer"
        },
        {
         "name": "Country",
         "rawType": "object",
         "type": "string"
        },
        {
         "name": "Code",
         "rawType": "object",
         "type": "string"
        },
        {
         "name": "business_to_personal_ratio_over_time",
         "rawType": "float64",
         "type": "float"
        }
       ],
       "conversionMethod": "pd.DataFrame",
       "ref": "c2c7d089-a253-45a3-a971-506d5fdc13c3",
       "rows": [
        [
         "0",
         "Albania",
         "ALB",
         "0.02167961287401837"
        ],
        [
         "1",
         "Algeria",
         "DZA",
         "1.7645629755626873"
        ],
        [
         "2",
         "American Samoa",
         "ASM",
         "0.21015137733566078"
        ],
        [
         "3",
         "Andorra",
         "AND",
         "0.037698202908685204"
        ],
        [
         "4",
         "Angola",
         "AGO",
         "0.1118226481165236"
        ],
        [
         "5",
         "Anguilla",
         "AIA",
         "0.024217742682606114"
        ],
        [
         "6",
         "Antigua and Barbuda",
         "ATG",
         "0.03951580931588969"
        ],
        [
         "7",
         "Argentina",
         "ARG",
         "0.14062479158138383"
        ],
        [
         "8",
         "Armenia",
         "ARM",
         "0.20976679218758132"
        ],
        [
         "9",
         "Aruba",
         "ABW",
         "0.04603695999857048"
        ],
        [
         "10",
         "Australia",
         "AUS",
         "0.2803770211469157"
        ],
        [
         "11",
         "Azerbaijan",
         "AZE",
         "0.32562701661478494"
        ],
        [
         "12",
         "Bahamas",
         "BHS",
         "0.04539625122443541"
        ],
        [
         "13",
         "Bahrain",
         "BHR",
         "0.06168621868446553"
        ],
        [
         "14",
         "Bangladesh",
         "BGD",
         "0.7766462501470668"
        ],
        [
         "15",
         "Barbados",
         "BRB",
         "0.0775779317622836"
        ],
        [
         "16",
         "Belarus",
         "BLR",
         "0.28088829381349795"
        ],
        [
         "17",
         "Belgium",
         "BEL",
         "0.472032683862392"
        ],
        [
         "18",
         "Belize",
         "BLZ",
         "0.07388187944056052"
        ],
        [
         "19",
         "Benin",
         "BEN",
         "0.9518999524371463"
        ],
        [
         "20",
         "Bermuda",
         "BMU",
         "0.12280618142924228"
        ],
        [
         "21",
         "Bhutan",
         "BTN",
         "0.07950771980384227"
        ],
        [
         "22",
         "Bolivia",
         "BOL",
         "0.13784600607744613"
        ],
        [
         "23",
         "Bosnia and Herzegovina",
         "BIH",
         "0.23211214945055392"
        ],
        [
         "24",
         "Botswana",
         "BWA",
         "0.2722072708556303"
        ],
        [
         "25",
         "Brazil",
         "BRA",
         "0.17873833658048827"
        ],
        [
         "26",
         "British Virgin Islands",
         "VGB",
         "0.0665020098478841"
        ],
        [
         "27",
         "Brunei",
         "BRN",
         "1.277211716813441"
        ],
        [
         "28",
         "Bulgaria",
         "BGR",
         "0.1426801210131231"
        ],
        [
         "29",
         "Burkina Faso",
         "BFA",
         "1.2383067406791657"
        ],
        [
         "30",
         "Burundi",
         "BDI",
         "0.18584230601737145"
        ],
        [
         "31",
         "Cambodia",
         "KHM",
         "0.7640795761397888"
        ],
        [
         "32",
         "Canada",
         "CAN",
         "0.2069538811415768"
        ],
        [
         "33",
         "Cayman Islands",
         "CYM",
         "0.06864979734760061"
        ],
        [
         "34",
         "Central African Republic",
         "CAF",
         "0.17488869399318321"
        ],
        [
         "35",
         "Chad",
         "TCD",
         "1.0009335367642802"
        ],
        [
         "36",
         "Chile",
         "CHL",
         "0.09723320290388286"
        ],
        [
         "37",
         "China",
         "CHN",
         "0.14731920267341053"
        ],
        [
         "38",
         "Colombia",
         "COL",
         "0.08675513435819779"
        ],
        [
         "39",
         "Comoros",
         "COM",
         "0.17548775818258977"
        ],
        [
         "40",
         "Congo",
         "COG",
         "0.7824569219483027"
        ],
        [
         "41",
         "Cook Islands",
         "COK",
         "0.017214221642810886"
        ],
        [
         "42",
         "Costa Rica",
         "CRI",
         "0.07196355215792738"
        ],
        [
         "43",
         "Cote d'Ivoire",
         "CIV",
         "0.7495024216004716"
        ],
        [
         "44",
         "Cuba",
         "CUB",
         "0.011708250523989761"
        ],
        [
         "45",
         "Curacao",
         "CUW",
         "0.0555589984464382"
        ],
        [
         "46",
         "Cyprus",
         "CYP",
         "0.12164059580446275"
        ],
        [
         "47",
         "Democratic Republic of Congo",
         "COD",
         "0.7100595758488345"
        ],
        [
         "48",
         "Denmark",
         "DNK",
         "0.02715493235774392"
        ],
        [
         "49",
         "Djibouti",
         "DJI",
         "0.959242070135048"
        ]
       ],
       "shape": {
        "columns": 3,
        "rows": 185
       }
      },
      "text/html": [
       "<div>\n",
       "<style scoped>\n",
       "    .dataframe tbody tr th:only-of-type {\n",
       "        vertical-align: middle;\n",
       "    }\n",
       "\n",
       "    .dataframe tbody tr th {\n",
       "        vertical-align: top;\n",
       "    }\n",
       "\n",
       "    .dataframe thead th {\n",
       "        text-align: right;\n",
       "    }\n",
       "</style>\n",
       "<table border=\"1\" class=\"dataframe\">\n",
       "  <thead>\n",
       "    <tr style=\"text-align: right;\">\n",
       "      <th></th>\n",
       "      <th>Country</th>\n",
       "      <th>Code</th>\n",
       "      <th>business_to_personal_ratio_over_time</th>\n",
       "    </tr>\n",
       "  </thead>\n",
       "  <tbody>\n",
       "    <tr>\n",
       "      <th>0</th>\n",
       "      <td>Albania</td>\n",
       "      <td>ALB</td>\n",
       "      <td>0.021680</td>\n",
       "    </tr>\n",
       "    <tr>\n",
       "      <th>1</th>\n",
       "      <td>Algeria</td>\n",
       "      <td>DZA</td>\n",
       "      <td>1.764563</td>\n",
       "    </tr>\n",
       "    <tr>\n",
       "      <th>2</th>\n",
       "      <td>American Samoa</td>\n",
       "      <td>ASM</td>\n",
       "      <td>0.210151</td>\n",
       "    </tr>\n",
       "    <tr>\n",
       "      <th>3</th>\n",
       "      <td>Andorra</td>\n",
       "      <td>AND</td>\n",
       "      <td>0.037698</td>\n",
       "    </tr>\n",
       "    <tr>\n",
       "      <th>4</th>\n",
       "      <td>Angola</td>\n",
       "      <td>AGO</td>\n",
       "      <td>0.111823</td>\n",
       "    </tr>\n",
       "    <tr>\n",
       "      <th>...</th>\n",
       "      <td>...</td>\n",
       "      <td>...</td>\n",
       "      <td>...</td>\n",
       "    </tr>\n",
       "    <tr>\n",
       "      <th>180</th>\n",
       "      <td>Vanuatu</td>\n",
       "      <td>VUT</td>\n",
       "      <td>0.055749</td>\n",
       "    </tr>\n",
       "    <tr>\n",
       "      <th>181</th>\n",
       "      <td>Venezuela</td>\n",
       "      <td>VEN</td>\n",
       "      <td>0.423833</td>\n",
       "    </tr>\n",
       "    <tr>\n",
       "      <th>182</th>\n",
       "      <td>Vietnam</td>\n",
       "      <td>VNM</td>\n",
       "      <td>0.201770</td>\n",
       "    </tr>\n",
       "    <tr>\n",
       "      <th>183</th>\n",
       "      <td>Zambia</td>\n",
       "      <td>ZMB</td>\n",
       "      <td>0.642594</td>\n",
       "    </tr>\n",
       "    <tr>\n",
       "      <th>184</th>\n",
       "      <td>Zimbabwe</td>\n",
       "      <td>ZWE</td>\n",
       "      <td>0.349155</td>\n",
       "    </tr>\n",
       "  </tbody>\n",
       "</table>\n",
       "<p>185 rows × 3 columns</p>\n",
       "</div>"
      ],
      "text/plain": [
       "            Country Code  business_to_personal_ratio_over_time\n",
       "0           Albania  ALB                              0.021680\n",
       "1           Algeria  DZA                              1.764563\n",
       "2    American Samoa  ASM                              0.210151\n",
       "3           Andorra  AND                              0.037698\n",
       "4            Angola  AGO                              0.111823\n",
       "..              ...  ...                                   ...\n",
       "180         Vanuatu  VUT                              0.055749\n",
       "181       Venezuela  VEN                              0.423833\n",
       "182         Vietnam  VNM                              0.201770\n",
       "183          Zambia  ZMB                              0.642594\n",
       "184        Zimbabwe  ZWE                              0.349155\n",
       "\n",
       "[185 rows x 3 columns]"
      ]
     },
     "execution_count": 19,
     "metadata": {},
     "output_type": "execute_result"
    }
   ],
   "source": [
    "business_to_tourists_ratio_adjusted"
   ]
  },
  {
   "cell_type": "markdown",
   "metadata": {},
   "source": [
    "## Stay of Tourists Statistics  "
   ]
  },
  {
   "cell_type": "code",
   "execution_count": 20,
   "metadata": {},
   "outputs": [
    {
     "data": {
      "application/vnd.microsoft.datawrangler.viewer.v0+json": {
       "columns": [
        {
         "name": "index",
         "rawType": "int64",
         "type": "integer"
        },
        {
         "name": "Country",
         "rawType": "object",
         "type": "string"
        },
        {
         "name": "Code",
         "rawType": "object",
         "type": "string"
        },
        {
         "name": "Year",
         "rawType": "int64",
         "type": "integer"
        },
        {
         "name": "avg_stay_days",
         "rawType": "float64",
         "type": "float"
        }
       ],
       "conversionMethod": "pd.DataFrame",
       "ref": "62220f54-2576-42c0-8c8d-5e464e885a10",
       "rows": [
        [
         "0",
         "Albania",
         "ALB",
         "2018",
         "2.43"
        ],
        [
         "1",
         "Albania",
         "ALB",
         "2019",
         "2.58"
        ],
        [
         "2",
         "Albania",
         "ALB",
         "2020",
         "2.34"
        ],
        [
         "3",
         "Albania",
         "ALB",
         "2021",
         "2.6"
        ],
        [
         "4",
         "Algeria",
         "DZA",
         "2000",
         "3.02"
        ],
        [
         "5",
         "Algeria",
         "DZA",
         "2001",
         "3.39"
        ],
        [
         "6",
         "Algeria",
         "DZA",
         "2002",
         "4.02"
        ],
        [
         "7",
         "Algeria",
         "DZA",
         "2015",
         "1.69"
        ],
        [
         "8",
         "Algeria",
         "DZA",
         "2016",
         "1.68"
        ],
        [
         "9",
         "Algeria",
         "DZA",
         "2017",
         "1.68"
        ],
        [
         "10",
         "Algeria",
         "DZA",
         "2018",
         "1.67"
        ],
        [
         "11",
         "Algeria",
         "DZA",
         "2019",
         "1.68"
        ],
        [
         "12",
         "Algeria",
         "DZA",
         "2020",
         "1.61"
        ],
        [
         "13",
         "Andorra",
         "AND",
         "1999",
         "2.77"
        ],
        [
         "14",
         "Andorra",
         "AND",
         "2000",
         "2.93"
        ],
        [
         "15",
         "Andorra",
         "AND",
         "2001",
         "2.85"
        ],
        [
         "16",
         "Andorra",
         "AND",
         "2002",
         "2.87"
        ],
        [
         "17",
         "Andorra",
         "AND",
         "2003",
         "2.68"
        ],
        [
         "18",
         "Andorra",
         "AND",
         "2004",
         "2.62"
        ],
        [
         "19",
         "Andorra",
         "AND",
         "2005",
         "2.69"
        ],
        [
         "20",
         "Andorra",
         "AND",
         "2006",
         "2.7"
        ],
        [
         "21",
         "Andorra",
         "AND",
         "2007",
         "2.87"
        ],
        [
         "22",
         "Andorra",
         "AND",
         "2008",
         "2.9"
        ],
        [
         "23",
         "Andorra",
         "AND",
         "2009",
         "2.6"
        ],
        [
         "24",
         "Andorra",
         "AND",
         "2010",
         "2.9"
        ],
        [
         "25",
         "Andorra",
         "AND",
         "2011",
         "2.91"
        ],
        [
         "26",
         "Andorra",
         "AND",
         "2012",
         "2.97"
        ],
        [
         "27",
         "Andorra",
         "AND",
         "2013",
         "2.99"
        ],
        [
         "28",
         "Andorra",
         "AND",
         "2014",
         "2.87"
        ],
        [
         "29",
         "Andorra",
         "AND",
         "2015",
         "3.05"
        ],
        [
         "30",
         "Andorra",
         "AND",
         "2016",
         "2.94"
        ],
        [
         "31",
         "Andorra",
         "AND",
         "2017",
         "2.91"
        ],
        [
         "32",
         "Andorra",
         "AND",
         "2018",
         "2.88"
        ],
        [
         "33",
         "Andorra",
         "AND",
         "2019",
         "2.88"
        ],
        [
         "34",
         "Andorra",
         "AND",
         "2020",
         "3.1"
        ],
        [
         "35",
         "Andorra",
         "AND",
         "2021",
         "2.59"
        ],
        [
         "36",
         "Angola",
         "AGO",
         "2002",
         "4.0"
        ],
        [
         "37",
         "Angola",
         "AGO",
         "2003",
         "4.0"
        ],
        [
         "38",
         "Argentina",
         "ARG",
         "2005",
         "2.4"
        ],
        [
         "39",
         "Argentina",
         "ARG",
         "2007",
         "2.35"
        ],
        [
         "40",
         "Argentina",
         "ARG",
         "2008",
         "2.34"
        ],
        [
         "41",
         "Argentina",
         "ARG",
         "2009",
         "2.29"
        ],
        [
         "42",
         "Argentina",
         "ARG",
         "2010",
         "2.38"
        ],
        [
         "43",
         "Argentina",
         "ARG",
         "2011",
         "2.35"
        ],
        [
         "44",
         "Argentina",
         "ARG",
         "2012",
         "2.37"
        ],
        [
         "45",
         "Argentina",
         "ARG",
         "2013",
         "2.36"
        ],
        [
         "46",
         "Argentina",
         "ARG",
         "2014",
         "2.4"
        ],
        [
         "47",
         "Argentina",
         "ARG",
         "2015",
         "2.39"
        ],
        [
         "48",
         "Argentina",
         "ARG",
         "2016",
         "2.37"
        ],
        [
         "49",
         "Argentina",
         "ARG",
         "2017",
         "2.3"
        ]
       ],
       "shape": {
        "columns": 4,
        "rows": 2894
       }
      },
      "text/html": [
       "<div>\n",
       "<style scoped>\n",
       "    .dataframe tbody tr th:only-of-type {\n",
       "        vertical-align: middle;\n",
       "    }\n",
       "\n",
       "    .dataframe tbody tr th {\n",
       "        vertical-align: top;\n",
       "    }\n",
       "\n",
       "    .dataframe thead th {\n",
       "        text-align: right;\n",
       "    }\n",
       "</style>\n",
       "<table border=\"1\" class=\"dataframe\">\n",
       "  <thead>\n",
       "    <tr style=\"text-align: right;\">\n",
       "      <th></th>\n",
       "      <th>Country</th>\n",
       "      <th>Code</th>\n",
       "      <th>Year</th>\n",
       "      <th>avg_stay_days</th>\n",
       "    </tr>\n",
       "  </thead>\n",
       "  <tbody>\n",
       "    <tr>\n",
       "      <th>0</th>\n",
       "      <td>Albania</td>\n",
       "      <td>ALB</td>\n",
       "      <td>2018</td>\n",
       "      <td>2.43</td>\n",
       "    </tr>\n",
       "    <tr>\n",
       "      <th>1</th>\n",
       "      <td>Albania</td>\n",
       "      <td>ALB</td>\n",
       "      <td>2019</td>\n",
       "      <td>2.58</td>\n",
       "    </tr>\n",
       "    <tr>\n",
       "      <th>2</th>\n",
       "      <td>Albania</td>\n",
       "      <td>ALB</td>\n",
       "      <td>2020</td>\n",
       "      <td>2.34</td>\n",
       "    </tr>\n",
       "    <tr>\n",
       "      <th>3</th>\n",
       "      <td>Albania</td>\n",
       "      <td>ALB</td>\n",
       "      <td>2021</td>\n",
       "      <td>2.60</td>\n",
       "    </tr>\n",
       "    <tr>\n",
       "      <th>4</th>\n",
       "      <td>Algeria</td>\n",
       "      <td>DZA</td>\n",
       "      <td>2000</td>\n",
       "      <td>3.02</td>\n",
       "    </tr>\n",
       "    <tr>\n",
       "      <th>...</th>\n",
       "      <td>...</td>\n",
       "      <td>...</td>\n",
       "      <td>...</td>\n",
       "      <td>...</td>\n",
       "    </tr>\n",
       "    <tr>\n",
       "      <th>2889</th>\n",
       "      <td>Zimbabwe</td>\n",
       "      <td>ZWE</td>\n",
       "      <td>2017</td>\n",
       "      <td>3.00</td>\n",
       "    </tr>\n",
       "    <tr>\n",
       "      <th>2890</th>\n",
       "      <td>Zimbabwe</td>\n",
       "      <td>ZWE</td>\n",
       "      <td>2018</td>\n",
       "      <td>3.00</td>\n",
       "    </tr>\n",
       "    <tr>\n",
       "      <th>2891</th>\n",
       "      <td>Zimbabwe</td>\n",
       "      <td>ZWE</td>\n",
       "      <td>2019</td>\n",
       "      <td>3.00</td>\n",
       "    </tr>\n",
       "    <tr>\n",
       "      <th>2892</th>\n",
       "      <td>Zimbabwe</td>\n",
       "      <td>ZWE</td>\n",
       "      <td>2020</td>\n",
       "      <td>3.00</td>\n",
       "    </tr>\n",
       "    <tr>\n",
       "      <th>2893</th>\n",
       "      <td>Zimbabwe</td>\n",
       "      <td>ZWE</td>\n",
       "      <td>2021</td>\n",
       "      <td>3.00</td>\n",
       "    </tr>\n",
       "  </tbody>\n",
       "</table>\n",
       "<p>2894 rows × 4 columns</p>\n",
       "</div>"
      ],
      "text/plain": [
       "       Country Code  Year  avg_stay_days\n",
       "0      Albania  ALB  2018           2.43\n",
       "1      Albania  ALB  2019           2.58\n",
       "2      Albania  ALB  2020           2.34\n",
       "3      Albania  ALB  2021           2.60\n",
       "4      Algeria  DZA  2000           3.02\n",
       "...        ...  ...   ...            ...\n",
       "2889  Zimbabwe  ZWE  2017           3.00\n",
       "2890  Zimbabwe  ZWE  2018           3.00\n",
       "2891  Zimbabwe  ZWE  2019           3.00\n",
       "2892  Zimbabwe  ZWE  2020           3.00\n",
       "2893  Zimbabwe  ZWE  2021           3.00\n",
       "\n",
       "[2894 rows x 4 columns]"
      ]
     },
     "execution_count": 20,
     "metadata": {},
     "output_type": "execute_result"
    }
   ],
   "source": [
    "avg_len_stay.rename(columns={\"Entity\":\"Country\", \"Average length of stay\":\"avg_stay_days\"}, inplace=True)\n",
    "avg_len_stay"
   ]
  },
  {
   "cell_type": "code",
   "execution_count": 21,
   "metadata": {},
   "outputs": [
    {
     "data": {
      "application/vnd.microsoft.datawrangler.viewer.v0+json": {
       "columns": [
        {
         "name": "index",
         "rawType": "int64",
         "type": "integer"
        },
        {
         "name": "Country",
         "rawType": "object",
         "type": "string"
        },
        {
         "name": "Code",
         "rawType": "object",
         "type": "string"
        },
        {
         "name": "Year",
         "rawType": "int64",
         "type": "integer"
        },
        {
         "name": "inbound_arrivals",
         "rawType": "float64",
         "type": "float"
        }
       ],
       "conversionMethod": "pd.DataFrame",
       "ref": "e9cf56e4-2876-4f3c-9fab-7cde617f146c",
       "rows": [
        [
         "0",
         "Albania",
         "ALB",
         "2007",
         "356.84418"
        ],
        [
         "1",
         "Albania",
         "ALB",
         "2008",
         "422.46985"
        ],
        [
         "2",
         "Albania",
         "ALB",
         "2009",
         "583.8489"
        ],
        [
         "3",
         "Albania",
         "ALB",
         "2010",
         "752.04175"
        ],
        [
         "4",
         "Albania",
         "ALB",
         "2011",
         "851.1856"
        ],
        [
         "5",
         "Albania",
         "ALB",
         "2012",
         "1091.2142"
        ],
        [
         "6",
         "Albania",
         "ALB",
         "2013",
         "989.60205"
        ],
        [
         "7",
         "Albania",
         "ALB",
         "2014",
         "1158.4203"
        ],
        [
         "8",
         "Albania",
         "ALB",
         "2015",
         "1312.7576"
        ],
        [
         "9",
         "Albania",
         "ALB",
         "2016",
         "1412.6725"
        ],
        [
         "10",
         "Albania",
         "ALB",
         "2017",
         "1612.5105"
        ],
        [
         "11",
         "Albania",
         "ALB",
         "2018",
         "1856.0879"
        ],
        [
         "12",
         "Albania",
         "ALB",
         "2019",
         "2132.3066"
        ],
        [
         "13",
         "Albania",
         "ALB",
         "2020",
         "908.314"
        ],
        [
         "14",
         "Albania",
         "ALB",
         "2021",
         "1931.895"
        ],
        [
         "15",
         "American Samoa",
         "ASM",
         "1995",
         "636.45386"
        ],
        [
         "16",
         "American Samoa",
         "ASM",
         "1996",
         "641.9309"
        ],
        [
         "17",
         "American Samoa",
         "ASM",
         "1997",
         "467.66797"
        ],
        [
         "18",
         "American Samoa",
         "ASM",
         "1998",
         "635.75037"
        ],
        [
         "19",
         "American Samoa",
         "ASM",
         "1999",
         "711.5955"
        ],
        [
         "20",
         "American Samoa",
         "ASM",
         "2000",
         "755.35187"
        ],
        [
         "21",
         "American Samoa",
         "ASM",
         "2001",
         "617.0512"
        ],
        [
         "22",
         "American Samoa",
         "ASM",
         "2005",
         "427.74588"
        ],
        [
         "23",
         "American Samoa",
         "ASM",
         "2006",
         "444.97598"
        ],
        [
         "24",
         "American Samoa",
         "ASM",
         "2007",
         "427.28983"
        ],
        [
         "25",
         "American Samoa",
         "ASM",
         "2008",
         "434.63486"
        ],
        [
         "26",
         "American Samoa",
         "ASM",
         "2009",
         "424.29495"
        ],
        [
         "27",
         "American Samoa",
         "ASM",
         "2010",
         "420.9874"
        ],
        [
         "28",
         "American Samoa",
         "ASM",
         "2011",
         "415.94583"
        ],
        [
         "29",
         "American Samoa",
         "ASM",
         "2012",
         "420.71558"
        ],
        [
         "30",
         "American Samoa",
         "ASM",
         "2013",
         "392.327"
        ],
        [
         "31",
         "American Samoa",
         "ASM",
         "2014",
         "413.52377"
        ],
        [
         "32",
         "American Samoa",
         "ASM",
         "2015",
         "395.0108"
        ],
        [
         "33",
         "American Samoa",
         "ASM",
         "2016",
         "398.2722"
        ],
        [
         "34",
         "American Samoa",
         "ASM",
         "2017",
         "404.15472"
        ],
        [
         "35",
         "American Samoa",
         "ASM",
         "2018",
         "416.96768"
        ],
        [
         "36",
         "American Samoa",
         "ASM",
         "2019",
         "405.5681"
        ],
        [
         "37",
         "American Samoa",
         "ASM",
         "2020",
         "19.473776"
        ],
        [
         "38",
         "Andorra",
         "AND",
         "1999",
         "35736.582"
        ],
        [
         "39",
         "Andorra",
         "AND",
         "2000",
         "44603.426"
        ],
        [
         "40",
         "Andorra",
         "AND",
         "2001",
         "51827.066"
        ],
        [
         "41",
         "Andorra",
         "AND",
         "2002",
         "47793.082"
        ],
        [
         "42",
         "Andorra",
         "AND",
         "2003",
         "42446.13"
        ],
        [
         "43",
         "Andorra",
         "AND",
         "2004",
         "36270.305"
        ],
        [
         "44",
         "Andorra",
         "AND",
         "2005",
         "30283.674"
        ],
        [
         "45",
         "Andorra",
         "AND",
         "2006",
         "27753.89"
        ],
        [
         "46",
         "Andorra",
         "AND",
         "2007",
         "27996.982"
        ],
        [
         "47",
         "Andorra",
         "AND",
         "2008",
         "27066.107"
        ],
        [
         "48",
         "Andorra",
         "AND",
         "2009",
         "24770.232"
        ],
        [
         "49",
         "Andorra",
         "AND",
         "2010",
         "25271.87"
        ]
       ],
       "shape": {
        "columns": 4,
        "rows": 4933
       }
      },
      "text/html": [
       "<div>\n",
       "<style scoped>\n",
       "    .dataframe tbody tr th:only-of-type {\n",
       "        vertical-align: middle;\n",
       "    }\n",
       "\n",
       "    .dataframe tbody tr th {\n",
       "        vertical-align: top;\n",
       "    }\n",
       "\n",
       "    .dataframe thead th {\n",
       "        text-align: right;\n",
       "    }\n",
       "</style>\n",
       "<table border=\"1\" class=\"dataframe\">\n",
       "  <thead>\n",
       "    <tr style=\"text-align: right;\">\n",
       "      <th></th>\n",
       "      <th>Country</th>\n",
       "      <th>Code</th>\n",
       "      <th>Year</th>\n",
       "      <th>inbound_arrivals</th>\n",
       "    </tr>\n",
       "  </thead>\n",
       "  <tbody>\n",
       "    <tr>\n",
       "      <th>0</th>\n",
       "      <td>Albania</td>\n",
       "      <td>ALB</td>\n",
       "      <td>2007</td>\n",
       "      <td>356.844180</td>\n",
       "    </tr>\n",
       "    <tr>\n",
       "      <th>1</th>\n",
       "      <td>Albania</td>\n",
       "      <td>ALB</td>\n",
       "      <td>2008</td>\n",
       "      <td>422.469850</td>\n",
       "    </tr>\n",
       "    <tr>\n",
       "      <th>2</th>\n",
       "      <td>Albania</td>\n",
       "      <td>ALB</td>\n",
       "      <td>2009</td>\n",
       "      <td>583.848900</td>\n",
       "    </tr>\n",
       "    <tr>\n",
       "      <th>3</th>\n",
       "      <td>Albania</td>\n",
       "      <td>ALB</td>\n",
       "      <td>2010</td>\n",
       "      <td>752.041750</td>\n",
       "    </tr>\n",
       "    <tr>\n",
       "      <th>4</th>\n",
       "      <td>Albania</td>\n",
       "      <td>ALB</td>\n",
       "      <td>2011</td>\n",
       "      <td>851.185600</td>\n",
       "    </tr>\n",
       "    <tr>\n",
       "      <th>...</th>\n",
       "      <td>...</td>\n",
       "      <td>...</td>\n",
       "      <td>...</td>\n",
       "      <td>...</td>\n",
       "    </tr>\n",
       "    <tr>\n",
       "      <th>4928</th>\n",
       "      <td>Zimbabwe</td>\n",
       "      <td>ZWE</td>\n",
       "      <td>1997</td>\n",
       "      <td>112.740204</td>\n",
       "    </tr>\n",
       "    <tr>\n",
       "      <th>4929</th>\n",
       "      <td>Zimbabwe</td>\n",
       "      <td>ZWE</td>\n",
       "      <td>1998</td>\n",
       "      <td>171.972400</td>\n",
       "    </tr>\n",
       "    <tr>\n",
       "      <th>4930</th>\n",
       "      <td>Zimbabwe</td>\n",
       "      <td>ZWE</td>\n",
       "      <td>1999</td>\n",
       "      <td>179.320500</td>\n",
       "    </tr>\n",
       "    <tr>\n",
       "      <th>4931</th>\n",
       "      <td>Zimbabwe</td>\n",
       "      <td>ZWE</td>\n",
       "      <td>2000</td>\n",
       "      <td>157.841200</td>\n",
       "    </tr>\n",
       "    <tr>\n",
       "      <th>4932</th>\n",
       "      <td>Zimbabwe</td>\n",
       "      <td>ZWE</td>\n",
       "      <td>2001</td>\n",
       "      <td>173.621290</td>\n",
       "    </tr>\n",
       "  </tbody>\n",
       "</table>\n",
       "<p>4933 rows × 4 columns</p>\n",
       "</div>"
      ],
      "text/plain": [
       "       Country Code  Year  inbound_arrivals\n",
       "0      Albania  ALB  2007        356.844180\n",
       "1      Albania  ALB  2008        422.469850\n",
       "2      Albania  ALB  2009        583.848900\n",
       "3      Albania  ALB  2010        752.041750\n",
       "4      Albania  ALB  2011        851.185600\n",
       "...        ...  ...   ...               ...\n",
       "4928  Zimbabwe  ZWE  1997        112.740204\n",
       "4929  Zimbabwe  ZWE  1998        171.972400\n",
       "4930  Zimbabwe  ZWE  1999        179.320500\n",
       "4931  Zimbabwe  ZWE  2000        157.841200\n",
       "4932  Zimbabwe  ZWE  2001        173.621290\n",
       "\n",
       "[4933 rows x 4 columns]"
      ]
     },
     "execution_count": 21,
     "metadata": {},
     "output_type": "execute_result"
    }
   ],
   "source": [
    "inbound_arrivals.rename(columns={\"Entity\":\"Country\", \"Inbound arrivals (tourists) per 1000 people\":\"inbound_arrivals\"}, inplace=True)\n",
    "inbound_arrivals"
   ]
  },
  {
   "cell_type": "code",
   "execution_count": 22,
   "metadata": {},
   "outputs": [
    {
     "data": {
      "application/vnd.microsoft.datawrangler.viewer.v0+json": {
       "columns": [
        {
         "name": "index",
         "rawType": "int64",
         "type": "integer"
        },
        {
         "name": "Country",
         "rawType": "object",
         "type": "string"
        },
        {
         "name": "Code",
         "rawType": "object",
         "type": "string"
        },
        {
         "name": "Year",
         "rawType": "int64",
         "type": "integer"
        },
        {
         "name": "domestic_tourists",
         "rawType": "float64",
         "type": "float"
        }
       ],
       "conversionMethod": "pd.DataFrame",
       "ref": "0568cb77-6d76-42d4-afb1-4fd35100329c",
       "rows": [
        [
         "0",
         "Argentina",
         "ARG",
         "2006",
         "524.5098"
        ],
        [
         "1",
         "Argentina",
         "ARG",
         "2012",
         "1262.6702"
        ],
        [
         "2",
         "Argentina",
         "ARG",
         "2013",
         "1266.4117"
        ],
        [
         "3",
         "Argentina",
         "ARG",
         "2014",
         "1173.8727"
        ],
        [
         "4",
         "Argentina",
         "ARG",
         "2015",
         "1051.4121"
        ],
        [
         "5",
         "Argentina",
         "ARG",
         "2016",
         "993.83453"
        ],
        [
         "6",
         "Argentina",
         "ARG",
         "2017",
         "1167.5962"
        ],
        [
         "7",
         "Argentina",
         "ARG",
         "2018",
         "1024.4161"
        ],
        [
         "8",
         "Argentina",
         "ARG",
         "2019",
         "1013.487"
        ],
        [
         "9",
         "Argentina",
         "ARG",
         "2020",
         "432.2317"
        ],
        [
         "10",
         "Argentina",
         "ARG",
         "2021",
         "668.44403"
        ],
        [
         "11",
         "Armenia",
         "ARM",
         "2008",
         "149.8278"
        ],
        [
         "12",
         "Armenia",
         "ARM",
         "2009",
         "147.08363"
        ],
        [
         "13",
         "Armenia",
         "ARM",
         "2010",
         "191.7662"
        ],
        [
         "14",
         "Armenia",
         "ARM",
         "2011",
         "166.95209"
        ],
        [
         "15",
         "Armenia",
         "ARM",
         "2012",
         "176.70706"
        ],
        [
         "16",
         "Armenia",
         "ARM",
         "2013",
         "230.92412"
        ],
        [
         "17",
         "Armenia",
         "ARM",
         "2014",
         "297.58435"
        ],
        [
         "18",
         "Armenia",
         "ARM",
         "2015",
         "302.57785"
        ],
        [
         "19",
         "Armenia",
         "ARM",
         "2016",
         "341.95895"
        ],
        [
         "20",
         "Armenia",
         "ARM",
         "2017",
         "381.14554"
        ],
        [
         "21",
         "Armenia",
         "ARM",
         "2018",
         "384.97293"
        ],
        [
         "22",
         "Armenia",
         "ARM",
         "2019",
         "547.755"
        ],
        [
         "23",
         "Armenia",
         "ARM",
         "2020",
         "372.46802"
        ],
        [
         "24",
         "Armenia",
         "ARM",
         "2021",
         "571.844"
        ],
        [
         "25",
         "Australia",
         "AUS",
         "1999",
         "3881.784"
        ],
        [
         "26",
         "Australia",
         "AUS",
         "2000",
         "3879.0159"
        ],
        [
         "27",
         "Australia",
         "AUS",
         "2001",
         "3874.9187"
        ],
        [
         "28",
         "Australia",
         "AUS",
         "2002",
         "3868.3308"
        ],
        [
         "29",
         "Australia",
         "AUS",
         "2003",
         "3737.2957"
        ],
        [
         "30",
         "Australia",
         "AUS",
         "2004",
         "3729.0227"
        ],
        [
         "31",
         "Australia",
         "AUS",
         "2005",
         "3466.435"
        ],
        [
         "32",
         "Australia",
         "AUS",
         "2006",
         "3594.268"
        ],
        [
         "33",
         "Australia",
         "AUS",
         "2007",
         "3574.7012"
        ],
        [
         "34",
         "Australia",
         "AUS",
         "2008",
         "3388.9976"
        ],
        [
         "35",
         "Australia",
         "AUS",
         "2009",
         "3124.0625"
        ],
        [
         "36",
         "Australia",
         "AUS",
         "2010",
         "3147.1218"
        ],
        [
         "37",
         "Australia",
         "AUS",
         "2011",
         "3215.7668"
        ],
        [
         "38",
         "Australia",
         "AUS",
         "2012",
         "3276.4797"
        ],
        [
         "39",
         "Australia",
         "AUS",
         "2013",
         "3279.5386"
        ],
        [
         "40",
         "Australia",
         "AUS",
         "2014",
         "3599.596"
        ],
        [
         "41",
         "Australia",
         "AUS",
         "2015",
         "3674.3123"
        ],
        [
         "42",
         "Australia",
         "AUS",
         "2016",
         "3750.335"
        ],
        [
         "43",
         "Australia",
         "AUS",
         "2017",
         "4004.988"
        ],
        [
         "44",
         "Australia",
         "AUS",
         "2018",
         "4196.3667"
        ],
        [
         "45",
         "Australia",
         "AUS",
         "2019",
         "4631.7476"
        ],
        [
         "46",
         "Australia",
         "AUS",
         "2020",
         "2824.8481"
        ],
        [
         "47",
         "Australia",
         "AUS",
         "2021",
         "3166.3015"
        ],
        [
         "48",
         "Austria",
         "AUT",
         "2008",
         "1249.8296"
        ],
        [
         "49",
         "Austria",
         "AUT",
         "2009",
         "1339.0964"
        ]
       ],
       "shape": {
        "columns": 4,
        "rows": 870
       }
      },
      "text/html": [
       "<div>\n",
       "<style scoped>\n",
       "    .dataframe tbody tr th:only-of-type {\n",
       "        vertical-align: middle;\n",
       "    }\n",
       "\n",
       "    .dataframe tbody tr th {\n",
       "        vertical-align: top;\n",
       "    }\n",
       "\n",
       "    .dataframe thead th {\n",
       "        text-align: right;\n",
       "    }\n",
       "</style>\n",
       "<table border=\"1\" class=\"dataframe\">\n",
       "  <thead>\n",
       "    <tr style=\"text-align: right;\">\n",
       "      <th></th>\n",
       "      <th>Country</th>\n",
       "      <th>Code</th>\n",
       "      <th>Year</th>\n",
       "      <th>domestic_tourists</th>\n",
       "    </tr>\n",
       "  </thead>\n",
       "  <tbody>\n",
       "    <tr>\n",
       "      <th>0</th>\n",
       "      <td>Argentina</td>\n",
       "      <td>ARG</td>\n",
       "      <td>2006</td>\n",
       "      <td>524.50980</td>\n",
       "    </tr>\n",
       "    <tr>\n",
       "      <th>1</th>\n",
       "      <td>Argentina</td>\n",
       "      <td>ARG</td>\n",
       "      <td>2012</td>\n",
       "      <td>1262.67020</td>\n",
       "    </tr>\n",
       "    <tr>\n",
       "      <th>2</th>\n",
       "      <td>Argentina</td>\n",
       "      <td>ARG</td>\n",
       "      <td>2013</td>\n",
       "      <td>1266.41170</td>\n",
       "    </tr>\n",
       "    <tr>\n",
       "      <th>3</th>\n",
       "      <td>Argentina</td>\n",
       "      <td>ARG</td>\n",
       "      <td>2014</td>\n",
       "      <td>1173.87270</td>\n",
       "    </tr>\n",
       "    <tr>\n",
       "      <th>4</th>\n",
       "      <td>Argentina</td>\n",
       "      <td>ARG</td>\n",
       "      <td>2015</td>\n",
       "      <td>1051.41210</td>\n",
       "    </tr>\n",
       "    <tr>\n",
       "      <th>...</th>\n",
       "      <td>...</td>\n",
       "      <td>...</td>\n",
       "      <td>...</td>\n",
       "      <td>...</td>\n",
       "    </tr>\n",
       "    <tr>\n",
       "      <th>865</th>\n",
       "      <td>Zimbabwe</td>\n",
       "      <td>ZWE</td>\n",
       "      <td>2017</td>\n",
       "      <td>617.30990</td>\n",
       "    </tr>\n",
       "    <tr>\n",
       "      <th>866</th>\n",
       "      <td>Zimbabwe</td>\n",
       "      <td>ZWE</td>\n",
       "      <td>2018</td>\n",
       "      <td>584.69890</td>\n",
       "    </tr>\n",
       "    <tr>\n",
       "      <th>867</th>\n",
       "      <td>Zimbabwe</td>\n",
       "      <td>ZWE</td>\n",
       "      <td>2019</td>\n",
       "      <td>791.74940</td>\n",
       "    </tr>\n",
       "    <tr>\n",
       "      <th>868</th>\n",
       "      <td>Zimbabwe</td>\n",
       "      <td>ZWE</td>\n",
       "      <td>2020</td>\n",
       "      <td>303.58023</td>\n",
       "    </tr>\n",
       "    <tr>\n",
       "      <th>869</th>\n",
       "      <td>Zimbabwe</td>\n",
       "      <td>ZWE</td>\n",
       "      <td>2021</td>\n",
       "      <td>429.79892</td>\n",
       "    </tr>\n",
       "  </tbody>\n",
       "</table>\n",
       "<p>870 rows × 4 columns</p>\n",
       "</div>"
      ],
      "text/plain": [
       "       Country Code  Year  domestic_tourists\n",
       "0    Argentina  ARG  2006          524.50980\n",
       "1    Argentina  ARG  2012         1262.67020\n",
       "2    Argentina  ARG  2013         1266.41170\n",
       "3    Argentina  ARG  2014         1173.87270\n",
       "4    Argentina  ARG  2015         1051.41210\n",
       "..         ...  ...   ...                ...\n",
       "865   Zimbabwe  ZWE  2017          617.30990\n",
       "866   Zimbabwe  ZWE  2018          584.69890\n",
       "867   Zimbabwe  ZWE  2019          791.74940\n",
       "868   Zimbabwe  ZWE  2020          303.58023\n",
       "869   Zimbabwe  ZWE  2021          429.79892\n",
       "\n",
       "[870 rows x 4 columns]"
      ]
     },
     "execution_count": 22,
     "metadata": {},
     "output_type": "execute_result"
    }
   ],
   "source": [
    "domestic_tourists.rename(columns={\"Entity\":\"Country\", \"Domestic trips (tourists) per 1000 people\":\"domestic_tourists\"}, inplace=True)\n",
    "domestic_tourists"
   ]
  },
  {
   "cell_type": "code",
   "execution_count": 23,
   "metadata": {},
   "outputs": [
    {
     "data": {
      "application/vnd.microsoft.datawrangler.viewer.v0+json": {
       "columns": [
        {
         "name": "index",
         "rawType": "int64",
         "type": "integer"
        },
        {
         "name": "Country",
         "rawType": "object",
         "type": "string"
        },
        {
         "name": "Code",
         "rawType": "object",
         "type": "string"
        },
        {
         "name": "Year",
         "rawType": "int64",
         "type": "integer"
        },
        {
         "name": "inbound_to_outbound_ratio",
         "rawType": "float64",
         "type": "float"
        }
       ],
       "conversionMethod": "pd.DataFrame",
       "ref": "f128f377-84aa-4dde-8047-9ac0220e9865",
       "rows": [
        [
         "0",
         "Angola",
         "AGO",
         "1995",
         "3.0"
        ],
        [
         "1",
         "Angola",
         "AGO",
         "1996",
         "7.0"
        ],
        [
         "2",
         "Argentina",
         "ARG",
         "1995",
         "0.6"
        ],
        [
         "3",
         "Argentina",
         "ARG",
         "1996",
         "0.608473"
        ],
        [
         "4",
         "Argentina",
         "ARG",
         "1997",
         "0.6119106"
        ],
        [
         "5",
         "Argentina",
         "ARG",
         "1998",
         "0.65592337"
        ],
        [
         "6",
         "Argentina",
         "ARG",
         "1999",
         "0.6055161"
        ],
        [
         "7",
         "Argentina",
         "ARG",
         "2000",
         "0.5873208"
        ],
        [
         "8",
         "Argentina",
         "ARG",
         "2001",
         "0.550189"
        ],
        [
         "9",
         "Argentina",
         "ARG",
         "2002",
         "0.9375"
        ],
        [
         "10",
         "Argentina",
         "ARG",
         "2003",
         "0.96988344"
        ],
        [
         "11",
         "Argentina",
         "ARG",
         "2004",
         "0.88550204"
        ],
        [
         "12",
         "Argentina",
         "ARG",
         "2005",
         "0.9817668"
        ],
        [
         "13",
         "Argentina",
         "ARG",
         "2006",
         "1.0721993"
        ],
        [
         "14",
         "Argentina",
         "ARG",
         "2007",
         "1.0947924"
        ],
        [
         "15",
         "Argentina",
         "ARG",
         "2008",
         "1.018639"
        ],
        [
         "16",
         "Argentina",
         "ARG",
         "2009",
         "0.8648866"
        ],
        [
         "17",
         "Argentina",
         "ARG",
         "2010",
         "1.2813265"
        ],
        [
         "18",
         "Argentina",
         "ARG",
         "2011",
         "1.0025426"
        ],
        [
         "19",
         "Argentina",
         "ARG",
         "2012",
         "0.8941646"
        ],
        [
         "20",
         "Argentina",
         "ARG",
         "2013",
         "0.9650163"
        ],
        [
         "21",
         "Argentina",
         "ARG",
         "2014",
         "1.0994322"
        ],
        [
         "22",
         "Argentina",
         "ARG",
         "2015",
         "0.8730626"
        ],
        [
         "23",
         "Argentina",
         "ARG",
         "2016",
         "0.6401075"
        ],
        [
         "24",
         "Argentina",
         "ARG",
         "2017",
         "0.5494964"
        ],
        [
         "25",
         "Argentina",
         "ARG",
         "2018",
         "0.6237197"
        ],
        [
         "26",
         "Argentina",
         "ARG",
         "2019",
         "0.81182796"
        ],
        [
         "27",
         "Argentina",
         "ARG",
         "2020",
         "0.73565644"
        ],
        [
         "28",
         "Argentina",
         "ARG",
         "2021",
         "0.35654262"
        ],
        [
         "29",
         "Armenia",
         "ARM",
         "2000",
         "0.4054054"
        ],
        [
         "30",
         "Armenia",
         "ARM",
         "2001",
         "1.1181818"
        ],
        [
         "31",
         "Armenia",
         "ARM",
         "2002",
         "1.2366412"
        ],
        [
         "32",
         "Armenia",
         "ARM",
         "2003",
         "1.2189349"
        ],
        [
         "33",
         "Armenia",
         "ARM",
         "2004",
         "1.1900452"
        ],
        [
         "34",
         "Armenia",
         "ARM",
         "2005",
         "1.1858736"
        ],
        [
         "35",
         "Armenia",
         "ARM",
         "2006",
         "1.1610942"
        ],
        [
         "36",
         "Armenia",
         "ARM",
         "2007",
         "1.0918803"
        ],
        [
         "37",
         "Armenia",
         "ARM",
         "2008",
         "1.0813954"
        ],
        [
         "38",
         "Armenia",
         "ARM",
         "2009",
         "1.0931559"
        ],
        [
         "39",
         "Armenia",
         "ARM",
         "2010",
         "1.21492"
        ],
        [
         "40",
         "Armenia",
         "ARM",
         "2011",
         "1.0601399"
        ],
        [
         "41",
         "Armenia",
         "ARM",
         "2012",
         "0.9979275"
        ],
        [
         "42",
         "Armenia",
         "ARM",
         "2013",
         "1.0009234"
        ],
        [
         "43",
         "Armenia",
         "ARM",
         "2014",
         "1.0050083"
        ],
        [
         "44",
         "Armenia",
         "ARM",
         "2015",
         "1.0042123"
        ],
        [
         "45",
         "Armenia",
         "ARM",
         "2016",
         "0.9976247"
        ],
        [
         "46",
         "Armenia",
         "ARM",
         "2017",
         "1.0087719"
        ],
        [
         "47",
         "Armenia",
         "ARM",
         "2018",
         "1.0178682"
        ],
        [
         "48",
         "Armenia",
         "ARM",
         "2019",
         "1.0139186"
        ],
        [
         "49",
         "Armenia",
         "ARM",
         "2020",
         "1.083815"
        ]
       ],
       "shape": {
        "columns": 4,
        "rows": 2110
       }
      },
      "text/html": [
       "<div>\n",
       "<style scoped>\n",
       "    .dataframe tbody tr th:only-of-type {\n",
       "        vertical-align: middle;\n",
       "    }\n",
       "\n",
       "    .dataframe tbody tr th {\n",
       "        vertical-align: top;\n",
       "    }\n",
       "\n",
       "    .dataframe thead th {\n",
       "        text-align: right;\n",
       "    }\n",
       "</style>\n",
       "<table border=\"1\" class=\"dataframe\">\n",
       "  <thead>\n",
       "    <tr style=\"text-align: right;\">\n",
       "      <th></th>\n",
       "      <th>Country</th>\n",
       "      <th>Code</th>\n",
       "      <th>Year</th>\n",
       "      <th>inbound_to_outbound_ratio</th>\n",
       "    </tr>\n",
       "  </thead>\n",
       "  <tbody>\n",
       "    <tr>\n",
       "      <th>0</th>\n",
       "      <td>Angola</td>\n",
       "      <td>AGO</td>\n",
       "      <td>1995</td>\n",
       "      <td>3.000000</td>\n",
       "    </tr>\n",
       "    <tr>\n",
       "      <th>1</th>\n",
       "      <td>Angola</td>\n",
       "      <td>AGO</td>\n",
       "      <td>1996</td>\n",
       "      <td>7.000000</td>\n",
       "    </tr>\n",
       "    <tr>\n",
       "      <th>2</th>\n",
       "      <td>Argentina</td>\n",
       "      <td>ARG</td>\n",
       "      <td>1995</td>\n",
       "      <td>0.600000</td>\n",
       "    </tr>\n",
       "    <tr>\n",
       "      <th>3</th>\n",
       "      <td>Argentina</td>\n",
       "      <td>ARG</td>\n",
       "      <td>1996</td>\n",
       "      <td>0.608473</td>\n",
       "    </tr>\n",
       "    <tr>\n",
       "      <th>4</th>\n",
       "      <td>Argentina</td>\n",
       "      <td>ARG</td>\n",
       "      <td>1997</td>\n",
       "      <td>0.611911</td>\n",
       "    </tr>\n",
       "    <tr>\n",
       "      <th>...</th>\n",
       "      <td>...</td>\n",
       "      <td>...</td>\n",
       "      <td>...</td>\n",
       "      <td>...</td>\n",
       "    </tr>\n",
       "    <tr>\n",
       "      <th>2105</th>\n",
       "      <td>Zimbabwe</td>\n",
       "      <td>ZWE</td>\n",
       "      <td>1995</td>\n",
       "      <td>5.324219</td>\n",
       "    </tr>\n",
       "    <tr>\n",
       "      <th>2106</th>\n",
       "      <td>Zimbabwe</td>\n",
       "      <td>ZWE</td>\n",
       "      <td>1996</td>\n",
       "      <td>22.855072</td>\n",
       "    </tr>\n",
       "    <tr>\n",
       "      <th>2107</th>\n",
       "      <td>Zimbabwe</td>\n",
       "      <td>ZWE</td>\n",
       "      <td>1997</td>\n",
       "      <td>10.414634</td>\n",
       "    </tr>\n",
       "    <tr>\n",
       "      <th>2108</th>\n",
       "      <td>Zimbabwe</td>\n",
       "      <td>ZWE</td>\n",
       "      <td>1998</td>\n",
       "      <td>9.323944</td>\n",
       "    </tr>\n",
       "    <tr>\n",
       "      <th>2109</th>\n",
       "      <td>Zimbabwe</td>\n",
       "      <td>ZWE</td>\n",
       "      <td>1999</td>\n",
       "      <td>6.347432</td>\n",
       "    </tr>\n",
       "  </tbody>\n",
       "</table>\n",
       "<p>2110 rows × 4 columns</p>\n",
       "</div>"
      ],
      "text/plain": [
       "        Country Code  Year  inbound_to_outbound_ratio\n",
       "0        Angola  AGO  1995                   3.000000\n",
       "1        Angola  AGO  1996                   7.000000\n",
       "2     Argentina  ARG  1995                   0.600000\n",
       "3     Argentina  ARG  1996                   0.608473\n",
       "4     Argentina  ARG  1997                   0.611911\n",
       "...         ...  ...   ...                        ...\n",
       "2105   Zimbabwe  ZWE  1995                   5.324219\n",
       "2106   Zimbabwe  ZWE  1996                  22.855072\n",
       "2107   Zimbabwe  ZWE  1997                  10.414634\n",
       "2108   Zimbabwe  ZWE  1998                   9.323944\n",
       "2109   Zimbabwe  ZWE  1999                   6.347432\n",
       "\n",
       "[2110 rows x 4 columns]"
      ]
     },
     "execution_count": 23,
     "metadata": {},
     "output_type": "execute_result"
    }
   ],
   "source": [
    "inbound_outbound_ratio.rename(columns={\"Entity\":\"Country\", \"Inbound/Outbound (tourists)\":\"inbound_to_outbound_ratio\"}, inplace=True)\n",
    "inbound_outbound_ratio"
   ]
  },
  {
   "cell_type": "markdown",
   "metadata": {},
   "source": [
    "We can apply the same exponential weighted mean with a higher emphasis on newer data. "
   ]
  },
  {
   "cell_type": "code",
   "execution_count": 24,
   "metadata": {},
   "outputs": [],
   "source": [
    "avg_len_stay_adjusted = apply_ewm_and_filter(avg_len_stay, \"avg_stay_days\", \"avg_stay_days_over_time\", 0.2)\n",
    "inbound_arrivals_adjusted = apply_ewm_and_filter(inbound_arrivals, \"inbound_arrivals\", \"inbound_arrivals_over_time\", 0.2)\n",
    "domestic_tourists_adjusted = apply_ewm_and_filter(domestic_tourists, \"domestic_tourists\", \"domestic_tourists_over_time\", 0.2)\n",
    "inbound_outbound_ratio_adjusted = apply_ewm_and_filter(inbound_outbound_ratio, \"inbound_to_outbound_ratio\", \"inbound_to_outbound_ratio_over_time\", 0.2)"
   ]
  },
  {
   "cell_type": "code",
   "execution_count": 25,
   "metadata": {},
   "outputs": [
    {
     "data": {
      "application/vnd.microsoft.datawrangler.viewer.v0+json": {
       "columns": [
        {
         "name": "index",
         "rawType": "int64",
         "type": "integer"
        },
        {
         "name": "Country",
         "rawType": "object",
         "type": "string"
        },
        {
         "name": "Code",
         "rawType": "object",
         "type": "string"
        },
        {
         "name": "avg_stay_days_over_time",
         "rawType": "float64",
         "type": "float"
        }
       ],
       "conversionMethod": "pd.DataFrame",
       "ref": "6af6b953-5413-4159-8637-cfb454e71fd3",
       "rows": [
        [
         "0",
         "Albania",
         "ALB",
         "2.562741312741313"
        ],
        [
         "1",
         "Algeria",
         "DZA",
         "1.621483801603442"
        ],
        [
         "2",
         "Andorra",
         "AND",
         "2.6689176780642363"
        ],
        [
         "3",
         "Angola",
         "AGO",
         "4.0"
        ],
        [
         "4",
         "Argentina",
         "ARG",
         "2.5522856779093965"
        ],
        [
         "5",
         "Armenia",
         "ARM",
         "10.999978594093081"
        ],
        [
         "6",
         "Australia",
         "AUS",
         "2.2166648805428517"
        ],
        [
         "7",
         "Austria",
         "AUT",
         "3.6268207158956773"
        ],
        [
         "8",
         "Azerbaijan",
         "AZE",
         "1.5302812647489534"
        ],
        [
         "9",
         "Bahamas",
         "BHS",
         "4.810479048333511"
        ],
        [
         "10",
         "Bahrain",
         "BHR",
         "2.9585510108773128"
        ],
        [
         "11",
         "Barbados",
         "BRB",
         "7.36949865481555"
        ],
        [
         "12",
         "Belarus",
         "BLR",
         "2.381787561774142"
        ],
        [
         "13",
         "Belize",
         "BLZ",
         "6.236344577000543"
        ],
        [
         "14",
         "Benin",
         "BEN",
         "5.5100012332835755"
        ],
        [
         "15",
         "Bermuda",
         "BMU",
         "4.900790521224407"
        ],
        [
         "16",
         "Bhutan",
         "BTN",
         "7.517691528670209"
        ],
        [
         "17",
         "Bolivia",
         "BOL",
         "2.0334512543583254"
        ],
        [
         "18",
         "Bosnia and Herzegovina",
         "BIH",
         "2.3173745173745175"
        ],
        [
         "19",
         "Botswana",
         "BWA",
         "1.8134315630972981"
        ],
        [
         "20",
         "British Virgin Islands",
         "VGB",
         "6.7095987606835985"
        ],
        [
         "21",
         "Brunei",
         "BRN",
         "5.523189441263083"
        ],
        [
         "22",
         "Bulgaria",
         "BGR",
         "3.105683090825842"
        ],
        [
         "23",
         "Burkina Faso",
         "BFA",
         "2.068935244907273"
        ],
        [
         "24",
         "Burundi",
         "BDI",
         "1.970829581993569"
        ],
        [
         "25",
         "Cameroon",
         "CMR",
         "1.54062198995022"
        ],
        [
         "26",
         "Canada",
         "CAN",
         "5.268301158301158"
        ],
        [
         "27",
         "Cape Verde",
         "CPV",
         "4.8192033130327445"
        ],
        [
         "28",
         "Cayman Islands",
         "CYM",
         "6.071815199546715"
        ],
        [
         "29",
         "Central African Republic",
         "CAF",
         "1.9028592196512322"
        ],
        [
         "30",
         "Chad",
         "TCD",
         "3.0038673291307085"
        ],
        [
         "31",
         "Chile",
         "CHL",
         "2.1684160168598217"
        ],
        [
         "32",
         "China",
         "CHN",
         "2.7294939147454107"
        ],
        [
         "33",
         "Colombia",
         "COL",
         "2.641627906976744"
        ],
        [
         "34",
         "Comoros",
         "COM",
         "6.999999997384009"
        ],
        [
         "35",
         "Congo",
         "COG",
         "2.5264942747770314"
        ],
        [
         "36",
         "Costa Rica",
         "CRI",
         "13.490907078589462"
        ],
        [
         "37",
         "Cote d'Ivoire",
         "CIV",
         "2.027902806356508"
        ],
        [
         "38",
         "Croatia",
         "HRV",
         "3.8053678697323745"
        ],
        [
         "39",
         "Cuba",
         "CUB",
         "3.0445016077170415"
        ],
        [
         "40",
         "Curacao",
         "CUW",
         "10.532209028975876"
        ],
        [
         "41",
         "Cyprus",
         "CYP",
         "4.452076521540828"
        ],
        [
         "42",
         "Czechia",
         "CZE",
         "2.5246923398233707"
        ],
        [
         "43",
         "Democratic Republic of Congo",
         "COD",
         "4.023550287639463"
        ],
        [
         "44",
         "Dominica",
         "DMA",
         "8.582541125618446"
        ],
        [
         "45",
         "Dominican Republic",
         "DOM",
         "9.452810602096687"
        ],
        [
         "46",
         "Egypt",
         "EGY",
         "10.541261892865016"
        ],
        [
         "47",
         "El Salvador",
         "SLV",
         "11.056880800296858"
        ],
        [
         "48",
         "Eritrea",
         "ERI",
         "3.0328484887305005"
        ],
        [
         "49",
         "Estonia",
         "EST",
         "1.7588915964444816"
        ]
       ],
       "shape": {
        "columns": 3,
        "rows": 168
       }
      },
      "text/html": [
       "<div>\n",
       "<style scoped>\n",
       "    .dataframe tbody tr th:only-of-type {\n",
       "        vertical-align: middle;\n",
       "    }\n",
       "\n",
       "    .dataframe tbody tr th {\n",
       "        vertical-align: top;\n",
       "    }\n",
       "\n",
       "    .dataframe thead th {\n",
       "        text-align: right;\n",
       "    }\n",
       "</style>\n",
       "<table border=\"1\" class=\"dataframe\">\n",
       "  <thead>\n",
       "    <tr style=\"text-align: right;\">\n",
       "      <th></th>\n",
       "      <th>Country</th>\n",
       "      <th>Code</th>\n",
       "      <th>avg_stay_days_over_time</th>\n",
       "    </tr>\n",
       "  </thead>\n",
       "  <tbody>\n",
       "    <tr>\n",
       "      <th>0</th>\n",
       "      <td>Albania</td>\n",
       "      <td>ALB</td>\n",
       "      <td>2.562741</td>\n",
       "    </tr>\n",
       "    <tr>\n",
       "      <th>1</th>\n",
       "      <td>Algeria</td>\n",
       "      <td>DZA</td>\n",
       "      <td>1.621484</td>\n",
       "    </tr>\n",
       "    <tr>\n",
       "      <th>2</th>\n",
       "      <td>Andorra</td>\n",
       "      <td>AND</td>\n",
       "      <td>2.668918</td>\n",
       "    </tr>\n",
       "    <tr>\n",
       "      <th>3</th>\n",
       "      <td>Angola</td>\n",
       "      <td>AGO</td>\n",
       "      <td>4.000000</td>\n",
       "    </tr>\n",
       "    <tr>\n",
       "      <th>4</th>\n",
       "      <td>Argentina</td>\n",
       "      <td>ARG</td>\n",
       "      <td>2.552286</td>\n",
       "    </tr>\n",
       "    <tr>\n",
       "      <th>...</th>\n",
       "      <td>...</td>\n",
       "      <td>...</td>\n",
       "      <td>...</td>\n",
       "    </tr>\n",
       "    <tr>\n",
       "      <th>163</th>\n",
       "      <td>Vanuatu</td>\n",
       "      <td>VUT</td>\n",
       "      <td>9.294494</td>\n",
       "    </tr>\n",
       "    <tr>\n",
       "      <th>164</th>\n",
       "      <td>Venezuela</td>\n",
       "      <td>VEN</td>\n",
       "      <td>7.680954</td>\n",
       "    </tr>\n",
       "    <tr>\n",
       "      <th>165</th>\n",
       "      <td>Vietnam</td>\n",
       "      <td>VNM</td>\n",
       "      <td>6.988401</td>\n",
       "    </tr>\n",
       "    <tr>\n",
       "      <th>166</th>\n",
       "      <td>Zambia</td>\n",
       "      <td>ZMB</td>\n",
       "      <td>3.843949</td>\n",
       "    </tr>\n",
       "    <tr>\n",
       "      <th>167</th>\n",
       "      <td>Zimbabwe</td>\n",
       "      <td>ZWE</td>\n",
       "      <td>3.000000</td>\n",
       "    </tr>\n",
       "  </tbody>\n",
       "</table>\n",
       "<p>168 rows × 3 columns</p>\n",
       "</div>"
      ],
      "text/plain": [
       "       Country Code  avg_stay_days_over_time\n",
       "0      Albania  ALB                 2.562741\n",
       "1      Algeria  DZA                 1.621484\n",
       "2      Andorra  AND                 2.668918\n",
       "3       Angola  AGO                 4.000000\n",
       "4    Argentina  ARG                 2.552286\n",
       "..         ...  ...                      ...\n",
       "163    Vanuatu  VUT                 9.294494\n",
       "164  Venezuela  VEN                 7.680954\n",
       "165    Vietnam  VNM                 6.988401\n",
       "166     Zambia  ZMB                 3.843949\n",
       "167   Zimbabwe  ZWE                 3.000000\n",
       "\n",
       "[168 rows x 3 columns]"
      ]
     },
     "execution_count": 25,
     "metadata": {},
     "output_type": "execute_result"
    }
   ],
   "source": [
    "avg_len_stay_adjusted"
   ]
  },
  {
   "cell_type": "markdown",
   "metadata": {},
   "source": [
    "## Putting all data together"
   ]
  },
  {
   "cell_type": "markdown",
   "metadata": {},
   "source": [
    "All datasets will be combines and the \"Country\" and \"Code\" column will be taken from the food_bev_workers_adjusted dataset, having 110 unique countries. "
   ]
  },
  {
   "cell_type": "code",
   "execution_count": 26,
   "metadata": {},
   "outputs": [],
   "source": [
    "# Start with the first dataset: tourism_workers_adjusted\n",
    "combined_df = tourism_workers_adjusted[['Code', 'Country', 'tourism_employment_per_1000_over_time']].copy()\n",
    "\n",
    "# List of other datasets to merge\n",
    "datasets_to_merge = [\n",
    "    food_bev_workers_adjusted,\n",
    "    gdp_tourism_proportion_adjusted,\n",
    "    business_to_tourists_ratio_adjusted,\n",
    "    avg_len_stay_adjusted,\n",
    "    inbound_arrivals_adjusted,\n",
    "    domestic_tourists_adjusted,\n",
    "    inbound_outbound_ratio_adjusted\n",
    "]\n",
    "\n",
    "# Sequentially merge each dataset\n",
    "for df in datasets_to_merge:\n",
    "    # Drop 'Code' column from the current dataset before merging\n",
    "    df = df.drop(columns=['Code'], errors='ignore')\n",
    "    \n",
    "    # Merge on 'Country', keeping 'Code' and 'Country' from combined_df\n",
    "    combined_df = pd.merge(combined_df, df, on='Country', how='left')\n",
    "\n"
   ]
  },
  {
   "cell_type": "code",
   "execution_count": 27,
   "metadata": {},
   "outputs": [
    {
     "data": {
      "application/vnd.microsoft.datawrangler.viewer.v0+json": {
       "columns": [
        {
         "name": "index",
         "rawType": "int64",
         "type": "integer"
        },
        {
         "name": "Code",
         "rawType": "object",
         "type": "string"
        },
        {
         "name": "Country",
         "rawType": "object",
         "type": "string"
        },
        {
         "name": "tourism_employment_per_1000_over_time",
         "rawType": "float64",
         "type": "float"
        },
        {
         "name": "food_employment_per_1000_over_time",
         "rawType": "float64",
         "type": "float"
        },
        {
         "name": "tourism_gdp_percentage_over_time",
         "rawType": "float64",
         "type": "float"
        },
        {
         "name": "business_to_personal_ratio_over_time",
         "rawType": "float64",
         "type": "float"
        },
        {
         "name": "avg_stay_days_over_time",
         "rawType": "float64",
         "type": "float"
        },
        {
         "name": "inbound_arrivals_over_time",
         "rawType": "float64",
         "type": "float"
        },
        {
         "name": "domestic_tourists_over_time",
         "rawType": "float64",
         "type": "float"
        },
        {
         "name": "inbound_to_outbound_ratio_over_time",
         "rawType": "float64",
         "type": "float"
        }
       ],
       "conversionMethod": "pd.DataFrame",
       "ref": "4c7604f9-a19e-4f33-bf1d-010fdd7848cf",
       "rows": [
        [
         "0",
         "ALB",
         "Albania",
         "15.608840199125053",
         null,
         null,
         "0.02167961287401837",
         "2.562741312741313",
         "1793.8027383661758",
         null,
         null
        ],
        [
         "1",
         "DZA",
         "Algeria",
         "7.411779196694216",
         null,
         "1.1299207098835016",
         "1.7645629755626873",
         "1.621483801603442",
         null,
         null,
         null
        ],
        [
         "2",
         "AGO",
         "Angola",
         "2.4392003061296945",
         "0.7102834141613",
         null,
         "0.1118226481165236",
         "4.0",
         "2.0019691777809476",
         null,
         "6.42857142857143"
        ],
        [
         "3",
         "ARG",
         "Argentina",
         "28.27054116990143",
         "11.444929569809979",
         "1.8907879822393825",
         "0.14062479158138383",
         "2.5522856779093965",
         "16.460292185423736",
         "645.3617335482996",
         "0.42093335925317715"
        ],
        [
         "4",
         "AUS",
         "Australia",
         "21.464763211894283",
         "7.825559489957894",
         "1.5726741278873289",
         "0.2803770211469157",
         "2.2166648805428517",
         "247.32418536407386",
         "3157.386094753677",
         null
        ],
        [
         "5",
         "AUT",
         "Austria",
         "18.29055616242892",
         "11.46429977653773",
         "3.1694417680945537",
         null,
         "3.6268207158956773",
         "1523.2341328226498",
         "1206.922461155207",
         "2.0135776971475003"
        ],
        [
         "6",
         "AZE",
         "Azerbaijan",
         "5.147057110284143",
         null,
         "3.7",
         "0.32562701661478494",
         "1.5302812647489534",
         "93.69797649395264",
         "1058.9797281853282",
         "0.6358555216787919"
        ],
        [
         "7",
         "BHR",
         "Bahrain",
         "47.522951680327864",
         "31.267618890678772",
         "2.2458796528957525",
         "0.06168621868446553",
         "2.9585510108773128",
         "1393.6514734631055",
         "121.57280978019504",
         "1.9078784985746435"
        ],
        [
         "8",
         "BLR",
         "Belarus",
         "25.981162888758895",
         null,
         "1.5902661980694983",
         "0.28088829381349795",
         "2.381787561774142",
         "83.06510536299918",
         "291.4606493897877",
         "1.7555069470454165"
        ],
        [
         "9",
         "BEL",
         "Belgium",
         "12.777735875",
         "6.429488049999999",
         "1.9016732285714288",
         "0.472032683862392",
         null,
         "286.20851269216223",
         "633.1678047852888",
         "0.3801733935636933"
        ],
        [
         "10",
         "BLZ",
         "Belize",
         "42.51445709084652",
         "13.318975020585546",
         null,
         "0.07388187944056052",
         "6.236344577000543",
         "542.6119075905664",
         null,
         null
        ],
        [
         "11",
         "BIH",
         "Bosnia and Herzegovina",
         "11.95901768185",
         "9.726463678362482",
         null,
         "0.23211214945055392",
         "2.3173745173745175",
         "145.78575209997308",
         null,
         null
        ],
        [
         "12",
         "BRA",
         "Brazil",
         "10.34343139782127",
         "5.9973117254870445",
         null,
         "0.17873833658048827",
         null,
         "5.138900594533572",
         "963.15924",
         "0.6255634664543399"
        ],
        [
         "13",
         "BRN",
         "Brunei",
         "6.983811303566712",
         null,
         "0.8180783038919749",
         "1.277211716813441",
         "5.523189441263083",
         "46.65619849179685",
         null,
         null
        ],
        [
         "14",
         "CMR",
         "Cameroon",
         "1.3391366578512398",
         "0.7977187895041323",
         null,
         null,
         "1.54062198995022",
         "37.02659079804233",
         "256.49255",
         null
        ],
        [
         "15",
         "CYM",
         "Cayman Islands",
         "177.72935862637362",
         null,
         null,
         "0.06864979734760061",
         "6.071815199546715",
         "671.7525200197904",
         null,
         null
        ],
        [
         "16",
         "CHL",
         "Chile",
         "26.14426777226971",
         "8.081689070014841",
         "3.3179656597005858",
         "0.09723320290388286",
         "2.1684160168598217",
         "23.113792171877986",
         "2458.4293886209084",
         "0.5078092943452865"
        ],
        [
         "17",
         "COM",
         "Comoros",
         "1.9131730999999996",
         "0.781572096153846",
         null,
         "0.17548775818258977",
         "6.999999997384009",
         "31.942561307716122",
         null,
         null
        ],
        [
         "18",
         "COG",
         "Congo",
         "1.929745369505495",
         "0.8587201068681319",
         null,
         "0.7824569219483027",
         "2.5264942747770314",
         "28.935334274113945",
         null,
         null
        ],
        [
         "19",
         "CRI",
         "Costa Rica",
         "28.65777092063815",
         "19.1646544196728",
         "4.795690118042527",
         "0.07196355215792738",
         "13.490907078589462",
         "262.2853482023792",
         null,
         "2.418655005068924"
        ],
        [
         "20",
         "CIV",
         "Cote d'Ivoire",
         "4.975301149725275",
         "2.5706224425",
         "2.4366762439228413",
         "0.7495024216004716",
         "2.027902806356508",
         null,
         null,
         null
        ],
        [
         "21",
         "HRV",
         "Croatia",
         "19.80693873484342",
         "9.620320800805194",
         "11.728353581395348",
         null,
         "3.8053678697323745",
         "2487.527669240745",
         "816.0954523745334",
         "15.654868785939723"
        ],
        [
         "22",
         "CYP",
         "Cyprus",
         "37.081326766145935",
         "19.109085468576144",
         null,
         "0.12164059580446275",
         "4.452076521540828",
         "1457.9497810055593",
         "1262.443320058839",
         null
        ],
        [
         "23",
         "CZE",
         "Czechia",
         "22.692482758540137",
         "6.566917092266781",
         "1.7133623695800486",
         null,
         "2.5246923398233707",
         "540.5793075664769",
         "2146.8057091707065",
         "1.6926115251850604"
        ],
        [
         "24",
         "DNK",
         "Denmark",
         "33.08627683606272",
         "21.224082334567044",
         "1.7034763474596548",
         "0.02715493235774392",
         null,
         "1298.584987896237",
         "3103.3855122397094",
         "2.2382042799513004"
        ],
        [
         "25",
         "DJI",
         "Djibouti",
         "1.4933581",
         "0.5020071",
         null,
         "0.959242070135048",
         null,
         "99.69237965137337",
         null,
         null
        ],
        [
         "26",
         "DOM",
         "Dominican Republic",
         "15.388764696929728",
         "6.164050282644628",
         null,
         "0.024724139926527857",
         "9.452810602096687",
         "421.2011979587777",
         null,
         "9.414554437329096"
        ],
        [
         "27",
         "ECU",
         "Ecuador",
         "6.49160887779196",
         "4.372785933323925",
         "1.2240324522139598",
         "0.4448503104422036",
         null,
         null,
         "316.53729433758815",
         null
        ],
        [
         "28",
         "EGY",
         "Egypt",
         "19.709908739010988",
         "4.728084111263737",
         "4.2645659163987135",
         "0.009090798926215865",
         "10.541261892865016",
         "118.7125802974409",
         "104.03155748180826",
         "1.8477616693292103"
        ],
        [
         "29",
         "SLV",
         "El Salvador",
         "8.736594901631873",
         "4.457795220389484",
         "3.505555676655948",
         "0.04471383336700617",
         "11.056880800296858",
         "180.72812015777325",
         null,
         "1.503474132556612"
        ],
        [
         "30",
         "EST",
         "Estonia",
         "19.062382924939644",
         "13.21182783791694",
         "5.409725259211038",
         "0.3059890197942379",
         "1.7588915964444816",
         "683.1251265840538",
         "1720.5134015863684",
         "1.4789630234354845"
        ],
        [
         "31",
         "SWZ",
         "Eswatini",
         "12.545189749999999",
         "3.1329322",
         "0.7101467591430353",
         "0.4515831343401828",
         "1.6033540770234453",
         "158.49428315471593",
         "87.56225767779723",
         "0.547511594495356"
        ],
        [
         "32",
         "FIN",
         "Finland",
         "24.637632197644884",
         "12.396445000626601",
         "1.872201506477481",
         "0.3025359567436876",
         "1.8080545266111347",
         "160.4676055257421",
         "5157.844807933329",
         "0.4346243749324197"
        ],
        [
         "33",
         "FRA",
         "France",
         "21.36111454548591",
         "12.266234232395346",
         "3.3087858000000003",
         "0.14186947072277284",
         "1.7998538723510213",
         "753.8165778961459",
         "2818.8547762531325",
         "3.515650949386798"
        ],
        [
         "34",
         "PYF",
         "French Polynesia",
         "35.73072718263939",
         "7.620747207428236",
         "7.3",
         "0.0824333649050281",
         "20.353338263197124",
         "284.5372707436195",
         null,
         "5.993203704243979"
        ],
        [
         "35",
         "GEO",
         "Georgia",
         "28.325324509011455",
         "6.105914501913133",
         null,
         "0.11626536762057876",
         "4.003859386795327",
         "426.64596840687057",
         "2076.1885362798503",
         "1.3276205236467058"
        ],
        [
         "36",
         "DEU",
         "Germany",
         "21.68124757652416",
         "14.89163881376449",
         "3.985673590751259",
         null,
         "2.3777778501186586",
         "150.6945039540223",
         "1931.9976196723653",
         "0.3921992940613161"
        ],
        [
         "37",
         "GHA",
         "Ghana",
         "10.497632249073387",
         null,
         null,
         "0.8744355062260613",
         "13.632154340836012",
         "18.343812820570623",
         null,
         "2.6965927398563925"
        ],
        [
         "38",
         "GRC",
         "Greece",
         "30.58106590873874",
         "16.525621763030713",
         "5.842859889463434",
         "0.09889208",
         "4.6961997937253175",
         "1352.083378409985",
         "457.97932527537444",
         "6.598953875325898"
        ],
        [
         "39",
         "HND",
         "Honduras",
         "24.351742451624325",
         "19.247421940891684",
         "6.066724577832152",
         "0.09672966540216858",
         "5.741428571428572",
         "42.098246719746285",
         null,
         "1.6876226245282322"
        ],
        [
         "40",
         "HKG",
         "Hong Kong",
         "14.997742215822337",
         "2.3884428024565616",
         "0.9224793152774107",
         "0.14822518806821142",
         null,
         "126.38173888256154",
         null,
         null
        ],
        [
         "41",
         "HUN",
         "Hungary",
         "33.3538398307256",
         "10.801319909059739",
         "5.348974095903762",
         "0.06406668347539099",
         "2.452667716108518",
         "834.4386417874315",
         "1041.5317863308135",
         "1.831076421591924"
        ],
        [
         "42",
         "ISL",
         "Iceland",
         "54.39530878850717",
         "23.89171053478916",
         "4.58503334658198",
         null,
         "1.6562396231241743",
         "1914.4235428142285",
         null,
         "3.2680933171780944"
        ],
        [
         "43",
         "IND",
         "India",
         "21.70433100579268",
         "5.400265599085366",
         "0.9082011218032742",
         "0.14136075338738693",
         null,
         "5.110259110555965",
         "506.90349746878746",
         "0.8348437793640273"
        ],
        [
         "44",
         "IDN",
         "Indonesia",
         "8.839096237666608",
         "0.6321044699999999",
         "2.692887172171155",
         "0.9538433720061517",
         "1.672530223028694",
         "8.264737785693105",
         "1436.2014930232558",
         "3.074155"
        ],
        [
         "45",
         "ISR",
         "Israel",
         "13.008746468735477",
         "1.5091099235413767",
         "1.0650159254836158",
         "0.11051731232143855",
         "2.2074206366084588",
         "64.79768390527794",
         "1044.5608",
         "0.19794478225192236"
        ],
        [
         "46",
         "JPN",
         "Japan",
         "46.209824504007976",
         "24.074736146329972",
         "1.9794889625603673",
         "0.07636455401318727",
         "1.3302239793095458",
         null,
         "1194.475944211339",
         null
        ],
        [
         "47",
         "JOR",
         "Jordan",
         "4.332466045592881",
         "1.5390439298171643",
         "6.095366795366796",
         "0.1455040999533944",
         "2.0092715355483626",
         "175.48791264276542",
         "38.89713",
         "2.4270238619196025"
        ],
        [
         "48",
         "KAZ",
         "Kazakhstan",
         "6.165860684193606",
         "4.352939815384614",
         "0.7257968610119813",
         "1.0681445050250111",
         null,
         "262.52605683045533",
         "370.57743713819974",
         "0.45433015986061537"
        ],
        [
         "49",
         "KIR",
         "Kiribati",
         "2.835337238461538",
         null,
         "0.7161335819780069",
         "5.096810026353395",
         "7.0531551967421",
         "3.722723924588953",
         null,
         null
        ]
       ],
       "shape": {
        "columns": 10,
        "rows": 110
       }
      },
      "text/html": [
       "<div>\n",
       "<style scoped>\n",
       "    .dataframe tbody tr th:only-of-type {\n",
       "        vertical-align: middle;\n",
       "    }\n",
       "\n",
       "    .dataframe tbody tr th {\n",
       "        vertical-align: top;\n",
       "    }\n",
       "\n",
       "    .dataframe thead th {\n",
       "        text-align: right;\n",
       "    }\n",
       "</style>\n",
       "<table border=\"1\" class=\"dataframe\">\n",
       "  <thead>\n",
       "    <tr style=\"text-align: right;\">\n",
       "      <th></th>\n",
       "      <th>Code</th>\n",
       "      <th>Country</th>\n",
       "      <th>tourism_employment_per_1000_over_time</th>\n",
       "      <th>food_employment_per_1000_over_time</th>\n",
       "      <th>tourism_gdp_percentage_over_time</th>\n",
       "      <th>business_to_personal_ratio_over_time</th>\n",
       "      <th>avg_stay_days_over_time</th>\n",
       "      <th>inbound_arrivals_over_time</th>\n",
       "      <th>domestic_tourists_over_time</th>\n",
       "      <th>inbound_to_outbound_ratio_over_time</th>\n",
       "    </tr>\n",
       "  </thead>\n",
       "  <tbody>\n",
       "    <tr>\n",
       "      <th>0</th>\n",
       "      <td>ALB</td>\n",
       "      <td>Albania</td>\n",
       "      <td>15.608840</td>\n",
       "      <td>NaN</td>\n",
       "      <td>NaN</td>\n",
       "      <td>0.021680</td>\n",
       "      <td>2.562741</td>\n",
       "      <td>1793.802738</td>\n",
       "      <td>NaN</td>\n",
       "      <td>NaN</td>\n",
       "    </tr>\n",
       "    <tr>\n",
       "      <th>1</th>\n",
       "      <td>DZA</td>\n",
       "      <td>Algeria</td>\n",
       "      <td>7.411779</td>\n",
       "      <td>NaN</td>\n",
       "      <td>1.129921</td>\n",
       "      <td>1.764563</td>\n",
       "      <td>1.621484</td>\n",
       "      <td>NaN</td>\n",
       "      <td>NaN</td>\n",
       "      <td>NaN</td>\n",
       "    </tr>\n",
       "    <tr>\n",
       "      <th>2</th>\n",
       "      <td>AGO</td>\n",
       "      <td>Angola</td>\n",
       "      <td>2.439200</td>\n",
       "      <td>0.710283</td>\n",
       "      <td>NaN</td>\n",
       "      <td>0.111823</td>\n",
       "      <td>4.000000</td>\n",
       "      <td>2.001969</td>\n",
       "      <td>NaN</td>\n",
       "      <td>6.428571</td>\n",
       "    </tr>\n",
       "    <tr>\n",
       "      <th>3</th>\n",
       "      <td>ARG</td>\n",
       "      <td>Argentina</td>\n",
       "      <td>28.270541</td>\n",
       "      <td>11.444930</td>\n",
       "      <td>1.890788</td>\n",
       "      <td>0.140625</td>\n",
       "      <td>2.552286</td>\n",
       "      <td>16.460292</td>\n",
       "      <td>645.361734</td>\n",
       "      <td>0.420933</td>\n",
       "    </tr>\n",
       "    <tr>\n",
       "      <th>4</th>\n",
       "      <td>AUS</td>\n",
       "      <td>Australia</td>\n",
       "      <td>21.464763</td>\n",
       "      <td>7.825559</td>\n",
       "      <td>1.572674</td>\n",
       "      <td>0.280377</td>\n",
       "      <td>2.216665</td>\n",
       "      <td>247.324185</td>\n",
       "      <td>3157.386095</td>\n",
       "      <td>NaN</td>\n",
       "    </tr>\n",
       "    <tr>\n",
       "      <th>...</th>\n",
       "      <td>...</td>\n",
       "      <td>...</td>\n",
       "      <td>...</td>\n",
       "      <td>...</td>\n",
       "      <td>...</td>\n",
       "      <td>...</td>\n",
       "      <td>...</td>\n",
       "      <td>...</td>\n",
       "      <td>...</td>\n",
       "      <td>...</td>\n",
       "    </tr>\n",
       "    <tr>\n",
       "      <th>105</th>\n",
       "      <td>USA</td>\n",
       "      <td>United States</td>\n",
       "      <td>13.763542</td>\n",
       "      <td>3.456045</td>\n",
       "      <td>2.875489</td>\n",
       "      <td>0.160518</td>\n",
       "      <td>NaN</td>\n",
       "      <td>69.200533</td>\n",
       "      <td>NaN</td>\n",
       "      <td>0.612504</td>\n",
       "    </tr>\n",
       "    <tr>\n",
       "      <th>106</th>\n",
       "      <td>VIR</td>\n",
       "      <td>United States Virgin Islands</td>\n",
       "      <td>58.525202</td>\n",
       "      <td>25.238442</td>\n",
       "      <td>NaN</td>\n",
       "      <td>NaN</td>\n",
       "      <td>4.355942</td>\n",
       "      <td>6256.192240</td>\n",
       "      <td>NaN</td>\n",
       "      <td>NaN</td>\n",
       "    </tr>\n",
       "    <tr>\n",
       "      <th>107</th>\n",
       "      <td>URY</td>\n",
       "      <td>Uruguay</td>\n",
       "      <td>35.711428</td>\n",
       "      <td>14.620641</td>\n",
       "      <td>7.188250</td>\n",
       "      <td>0.084674</td>\n",
       "      <td>4.496567</td>\n",
       "      <td>913.040069</td>\n",
       "      <td>1685.925742</td>\n",
       "      <td>1.462021</td>\n",
       "    </tr>\n",
       "    <tr>\n",
       "      <th>108</th>\n",
       "      <td>UZB</td>\n",
       "      <td>Uzbekistan</td>\n",
       "      <td>1.545283</td>\n",
       "      <td>NaN</td>\n",
       "      <td>NaN</td>\n",
       "      <td>0.021544</td>\n",
       "      <td>2.551356</td>\n",
       "      <td>NaN</td>\n",
       "      <td>NaN</td>\n",
       "      <td>NaN</td>\n",
       "    </tr>\n",
       "    <tr>\n",
       "      <th>109</th>\n",
       "      <td>ZMB</td>\n",
       "      <td>Zambia</td>\n",
       "      <td>4.312599</td>\n",
       "      <td>NaN</td>\n",
       "      <td>NaN</td>\n",
       "      <td>0.642594</td>\n",
       "      <td>3.843949</td>\n",
       "      <td>29.262606</td>\n",
       "      <td>NaN</td>\n",
       "      <td>NaN</td>\n",
       "    </tr>\n",
       "  </tbody>\n",
       "</table>\n",
       "<p>110 rows × 10 columns</p>\n",
       "</div>"
      ],
      "text/plain": [
       "    Code                       Country  tourism_employment_per_1000_over_time  \\\n",
       "0    ALB                       Albania                              15.608840   \n",
       "1    DZA                       Algeria                               7.411779   \n",
       "2    AGO                        Angola                               2.439200   \n",
       "3    ARG                     Argentina                              28.270541   \n",
       "4    AUS                     Australia                              21.464763   \n",
       "..   ...                           ...                                    ...   \n",
       "105  USA                 United States                              13.763542   \n",
       "106  VIR  United States Virgin Islands                              58.525202   \n",
       "107  URY                       Uruguay                              35.711428   \n",
       "108  UZB                    Uzbekistan                               1.545283   \n",
       "109  ZMB                        Zambia                               4.312599   \n",
       "\n",
       "     food_employment_per_1000_over_time  tourism_gdp_percentage_over_time  \\\n",
       "0                                   NaN                               NaN   \n",
       "1                                   NaN                          1.129921   \n",
       "2                              0.710283                               NaN   \n",
       "3                             11.444930                          1.890788   \n",
       "4                              7.825559                          1.572674   \n",
       "..                                  ...                               ...   \n",
       "105                            3.456045                          2.875489   \n",
       "106                           25.238442                               NaN   \n",
       "107                           14.620641                          7.188250   \n",
       "108                                 NaN                               NaN   \n",
       "109                                 NaN                               NaN   \n",
       "\n",
       "     business_to_personal_ratio_over_time  avg_stay_days_over_time  \\\n",
       "0                                0.021680                 2.562741   \n",
       "1                                1.764563                 1.621484   \n",
       "2                                0.111823                 4.000000   \n",
       "3                                0.140625                 2.552286   \n",
       "4                                0.280377                 2.216665   \n",
       "..                                    ...                      ...   \n",
       "105                              0.160518                      NaN   \n",
       "106                                   NaN                 4.355942   \n",
       "107                              0.084674                 4.496567   \n",
       "108                              0.021544                 2.551356   \n",
       "109                              0.642594                 3.843949   \n",
       "\n",
       "     inbound_arrivals_over_time  domestic_tourists_over_time  \\\n",
       "0                   1793.802738                          NaN   \n",
       "1                           NaN                          NaN   \n",
       "2                      2.001969                          NaN   \n",
       "3                     16.460292                   645.361734   \n",
       "4                    247.324185                  3157.386095   \n",
       "..                          ...                          ...   \n",
       "105                   69.200533                          NaN   \n",
       "106                 6256.192240                          NaN   \n",
       "107                  913.040069                  1685.925742   \n",
       "108                         NaN                          NaN   \n",
       "109                   29.262606                          NaN   \n",
       "\n",
       "     inbound_to_outbound_ratio_over_time  \n",
       "0                                    NaN  \n",
       "1                                    NaN  \n",
       "2                               6.428571  \n",
       "3                               0.420933  \n",
       "4                                    NaN  \n",
       "..                                   ...  \n",
       "105                             0.612504  \n",
       "106                                  NaN  \n",
       "107                             1.462021  \n",
       "108                                  NaN  \n",
       "109                                  NaN  \n",
       "\n",
       "[110 rows x 10 columns]"
      ]
     },
     "execution_count": 27,
     "metadata": {},
     "output_type": "execute_result"
    }
   ],
   "source": [
    "combined_df"
   ]
  },
  {
   "cell_type": "code",
   "execution_count": 28,
   "metadata": {},
   "outputs": [
    {
     "data": {
      "text/plain": [
       "Code                                      0.000000\n",
       "Country                                   0.000000\n",
       "tourism_employment_per_1000_over_time     0.000000\n",
       "food_employment_per_1000_over_time       22.727273\n",
       "tourism_gdp_percentage_over_time         28.181818\n",
       "business_to_personal_ratio_over_time     14.545455\n",
       "avg_stay_days_over_time                  15.454545\n",
       "inbound_arrivals_over_time                6.363636\n",
       "domestic_tourists_over_time              41.818182\n",
       "inbound_to_outbound_ratio_over_time      39.090909\n",
       "dtype: float64"
      ]
     },
     "metadata": {},
     "output_type": "display_data"
    }
   ],
   "source": [
    "# Calculate the percentage of null values in each column\n",
    "null_percentage = combined_df.isnull().mean() * 100\n",
    "\n",
    "# Display the null percentage for each column\n",
    "display(null_percentage)\n"
   ]
  },
  {
   "cell_type": "code",
   "execution_count": 29,
   "metadata": {},
   "outputs": [],
   "source": [
    "combined_df.to_csv('../Data/tourism_combined_data.csv', index=False)"
   ]
  },
  {
   "cell_type": "code",
   "execution_count": null,
   "metadata": {},
   "outputs": [],
   "source": []
  }
 ],
 "metadata": {
  "kernelspec": {
   "display_name": "general_practice",
   "language": "python",
   "name": "python3"
  },
  "language_info": {
   "codemirror_mode": {
    "name": "ipython",
    "version": 3
   },
   "file_extension": ".py",
   "mimetype": "text/x-python",
   "name": "python",
   "nbconvert_exporter": "python",
   "pygments_lexer": "ipython3",
   "version": "3.10.14"
  }
 },
 "nbformat": 4,
 "nbformat_minor": 2
}
