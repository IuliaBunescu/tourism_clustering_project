{
 "cells": [
  {
   "cell_type": "code",
   "execution_count": null,
   "id": "initial_id",
   "metadata": {
    "collapsed": true
   },
   "outputs": [],
   "source": [
    "import sys\n",
    "import pandas as pd\n",
    "from bs4 import BeautifulSoup\n",
    "\n",
    "def extract_table_from_html(html_file, output_csv):\n",
    "    with open(html_file, \"r\", encoding=\"utf-8\") as f:\n",
    "        soup = BeautifulSoup(f, \"html.parser\")\n",
    "\n",
    "    tables = soup.find_all(\"table\")\n",
    "\n",
    "    for table in tables:\n",
    "        headers = [th.get_text(strip=True) for th in table.find_all(\"th\")]\n",
    "        rows = []\n",
    "        for row in table.find_all(\"tr\")[1:]:\n",
    "            cols = row.find_all(\"td\")\n",
    "            if cols:\n",
    "                rows.append([col.get_text(strip=True) for col in cols])\n",
    "        if headers and rows:\n",
    "            df = pd.DataFrame(rows, columns=headers)\n",
    "            df.to_csv(output_csv, index=False)\n",
    "            print(f\"Saved CSV to: {output_csv}\")\n",
    "            return\n",
    "\n",
    "if __name__ == \"__main__\":\n",
    "    if len(sys.argv) != 3:\n",
    "        print(\"Usage: python extract_table.py input_file.html output_file.csv\")\n",
    "        sys.exit(1)\n",
    "\n",
    "    html_file = sys.argv[1]\n",
    "    output_csv = sys.argv[2]\n",
    "\n",
    "    extract_table_from_html(html_file, output_csv)\n"
   ]
  }
 ],
 "metadata": {
  "kernelspec": {
   "display_name": "Python 3",
   "language": "python",
   "name": "python3"
  },
  "language_info": {
   "codemirror_mode": {
    "name": "ipython",
    "version": 2
   },
   "file_extension": ".py",
   "mimetype": "text/x-python",
   "name": "python",
   "nbconvert_exporter": "python",
   "pygments_lexer": "ipython2",
   "version": "2.7.6"
  }
 },
 "nbformat": 4,
 "nbformat_minor": 5
}
